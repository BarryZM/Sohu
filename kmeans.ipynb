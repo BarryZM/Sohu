{
 "cells": [
  {
   "cell_type": "code",
   "execution_count": 1,
   "id": "1617f313-586f-4e7b-b579-0cbc7adae5c5",
   "metadata": {},
   "outputs": [],
   "source": [
    "import pandas as pd\n",
    "import numpy as np\n",
    "from sklearn.metrics.pairwise import cosine_similarity\n",
    "from gensim.models import Word2Vec,word2vec,KeyedVectors\n",
    "import numpy as np\n",
    "\n",
    "import re, numpy as np, pandas as pd, jieba\n",
    "from sklearn.cluster import KMeans\n",
    "\n",
    "generate='./data/generate/'\n",
    "path='./data/rec_data/'"
   ]
  },
  {
   "cell_type": "code",
   "execution_count": 2,
   "id": "504422b4-8372-400d-9f0a-a9d43fda33c1",
   "metadata": {},
   "outputs": [],
   "source": [
    "def fill_array_nan(arr):\n",
    "    for i in range(arr.shape[1]):\n",
    "        current_col=arr[:,i]\n",
    "        nan_array=current_col[current_col!=current_col]\n",
    "        if nan_array is not None:\n",
    "            not_nan_array=current_col[current_col==current_col]\n",
    "            current_col[np.isnan(current_col)]=not_nan_array.mean()\n",
    "    return arr"
   ]
  },
  {
   "cell_type": "code",
   "execution_count": 3,
   "id": "c4b8720d-2e09-45dd-8ce8-77a459c862e7",
   "metadata": {},
   "outputs": [],
   "source": [
    "data=pd.read_feather(generate+'entityEmbedding.feather')"
   ]
  },
  {
   "cell_type": "code",
   "execution_count": 4,
   "id": "77fa5dfd-0b2b-4d2f-9864-6a671a2baefc",
   "metadata": {},
   "outputs": [],
   "source": [
    "id=data['id'].values.tolist()\n",
    "id=np.array(id)\n",
    "entity=data['entity'].values.tolist()\n",
    "entity=np.array(entity)"
   ]
  },
  {
   "cell_type": "code",
   "execution_count": 5,
   "id": "85539a2a-7426-4374-a499-97a90b53ecc3",
   "metadata": {},
   "outputs": [
    {
     "name": "stderr",
     "output_type": "stream",
     "text": [
      "/tmp/ipykernel_5069/3082525233.py:3: RuntimeWarning: invalid value encountered in true_divide\n",
      "  entity = entity / uv  # Vector or matrix norm\n"
     ]
    }
   ],
   "source": [
    "# 转为单位向量\n",
    "uv = np.linalg.norm(entity, axis=1).reshape(-1, 1)  # Unit Vector\n",
    "entity = entity / uv  # Vector or matrix norm\n",
    "entity=fill_array_nan(entity)\n",
    "# 聚类\n",
    "labels = KMeans(14).fit(entity).labels_"
   ]
  },
  {
   "cell_type": "code",
   "execution_count": 6,
   "id": "f7b7e2e1-aec7-4cf8-9865-c06345632afc",
   "metadata": {},
   "outputs": [],
   "source": [
    "data['category']=labels\n",
    "data=data[['id','category']]\n",
    "data['category']=data['category']+1\n",
    "data.rename(columns={'id':'itemId'},inplace=True)"
   ]
  },
  {
   "cell_type": "code",
   "execution_count": 7,
   "id": "ba3233d6-263a-4476-8a30-f4bf4a9c32f6",
   "metadata": {},
   "outputs": [],
   "source": [
    "data.to_csv(generate+\"category14.csv\",index=False)"
   ]
  }
 ],
 "metadata": {
  "kernelspec": {
   "display_name": "Python 3 (ipykernel)",
   "language": "python",
   "name": "python3"
  },
  "language_info": {
   "codemirror_mode": {
    "name": "ipython",
    "version": 3
   },
   "file_extension": ".py",
   "mimetype": "text/x-python",
   "name": "python",
   "nbconvert_exporter": "python",
   "pygments_lexer": "ipython3",
   "version": "3.8.10"
  }
 },
 "nbformat": 4,
 "nbformat_minor": 5
}
