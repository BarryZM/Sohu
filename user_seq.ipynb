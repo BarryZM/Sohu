{
 "cells": [
  {
   "cell_type": "code",
   "execution_count": 1,
   "id": "26b2c2ce-397d-4f55-87ed-9981ec406cb5",
   "metadata": {},
   "outputs": [],
   "source": [
    "import pandas as pd\n",
    "from pandas import Series,DataFrame"
   ]
  },
  {
   "cell_type": "code",
   "execution_count": 2,
   "id": "61b924a1-b233-4c0d-b1cb-96185eef5657",
   "metadata": {},
   "outputs": [],
   "source": [
    "generate='./data/generate/'\n",
    "rec_path='./data/rec_data/'\n",
    "train=pd.read_csv(rec_path+'train-dataset.csv')\n",
    "test=pd.read_csv(rec_path+'test-dataset.csv')\n",
    "rec_train=pd.read_csv(rec_path+'rec-train-dataset.csv')"
   ]
  },
  {
   "cell_type": "code",
   "execution_count": 3,
   "id": "6bba0386-5269-40bd-99b0-c52c46b2da05",
   "metadata": {},
   "outputs": [],
   "source": [
    "trian=train[train['label']==1]\n",
    "train=train[['suv','userSeq']]\n",
    "rec_train=rec_train[rec_train['label']==1]\n",
    "rec_train=rec_train[['suv','userSeq']]\n",
    "test=test[['suv','userSeq']]\n",
    "\n",
    "data=pd.concat([train,test])\n",
    "data=pd.concat([data,rec_train])\n",
    "# data=train.copy()\n",
    "\n",
    "data.drop_duplicates(subset=['suv','userSeq'],inplace=True)\n",
    "data=data[data['userSeq'].notna()]"
   ]
  },
  {
   "cell_type": "code",
   "execution_count": 4,
   "id": "d16b16d2-0bf7-4642-8de1-bcd54cb97199",
   "metadata": {},
   "outputs": [],
   "source": [
    "del train\n",
    "del test\n",
    "del rec_train"
   ]
  },
  {
   "cell_type": "code",
   "execution_count": 5,
   "id": "78e3f0e2-5a6d-4ea2-a9af-dbe914719cc7",
   "metadata": {},
   "outputs": [],
   "source": [
    "suv_list=list()\n",
    "itemId_list=list()\n",
    "time_list=list()"
   ]
  },
  {
   "cell_type": "code",
   "execution_count": 6,
   "id": "7f75f3dd-fc1f-49a8-a404-2d45ffb5b5c7",
   "metadata": {},
   "outputs": [],
   "source": [
    "for suv,userSeq in zip(data['suv'],data['userSeq']):  \n",
    "  if type(userSeq)==float:\n",
    "    continue\n",
    "  seq_arr=userSeq.split(';')\n",
    "  for i in seq_arr:\n",
    "    temp=i.split(':')\n",
    "    suv_list.append(suv)\n",
    "    itemId_list.append(temp[0])\n",
    "    time_list.append(temp[1])\n",
    "\n",
    "# for suv,itemId,logTs in zip(train['suv'],train['itemId'],train['logTs']):  \n",
    "#   suv_list.append(suv)\n",
    "#   itemId_list.append(itemId)\n",
    "#   time_list.append(logTs)"
   ]
  },
  {
   "cell_type": "code",
   "execution_count": 7,
   "id": "31436ff8-440e-4769-9a4a-13c39612da8f",
   "metadata": {},
   "outputs": [],
   "source": [
    "data_suv_seq={\n",
    "    'suv':Series(suv_list),\n",
    "    'itemId':Series(itemId_list),\n",
    "    'logTs':Series(time_list),\n",
    "}\n",
    "df_suv_seq=DataFrame(data_suv_seq)\n",
    "df_suv_seq.drop_duplicates(inplace=True)\n",
    "suv_list.clear()\n",
    "itemId_list.clear()\n",
    "time_list.clear()"
   ]
  },
  {
   "cell_type": "code",
   "execution_count": 8,
   "id": "e1bc3df2-df44-4022-b734-23de4f357231",
   "metadata": {},
   "outputs": [
    {
     "data": {
      "text/html": [
       "<div>\n",
       "<style scoped>\n",
       "    .dataframe tbody tr th:only-of-type {\n",
       "        vertical-align: middle;\n",
       "    }\n",
       "\n",
       "    .dataframe tbody tr th {\n",
       "        vertical-align: top;\n",
       "    }\n",
       "\n",
       "    .dataframe thead th {\n",
       "        text-align: right;\n",
       "    }\n",
       "</style>\n",
       "<table border=\"1\" class=\"dataframe\">\n",
       "  <thead>\n",
       "    <tr style=\"text-align: right;\">\n",
       "      <th></th>\n",
       "      <th>suv</th>\n",
       "      <th>userSeq</th>\n",
       "    </tr>\n",
       "  </thead>\n",
       "  <tbody>\n",
       "    <tr>\n",
       "      <th>0</th>\n",
       "      <td>1581173072343wnwm3q</td>\n",
       "      <td>10094375:1640918979673;10084835:1640836934361;...</td>\n",
       "    </tr>\n",
       "    <tr>\n",
       "      <th>15</th>\n",
       "      <td>1622811407723249</td>\n",
       "      <td>10095850:1640986831381;10098478:1640986822552;...</td>\n",
       "    </tr>\n",
       "    <tr>\n",
       "      <th>46</th>\n",
       "      <td>1631255051069rUc2F4</td>\n",
       "      <td>10072319:1640596871469;10080567:1640771034283;...</td>\n",
       "    </tr>\n",
       "    <tr>\n",
       "      <th>105</th>\n",
       "      <td>15941340556035hgvd5</td>\n",
       "      <td>10091382:1640965592215;10090686:1640965772627;...</td>\n",
       "    </tr>\n",
       "    <tr>\n",
       "      <th>118</th>\n",
       "      <td>1532509211790143</td>\n",
       "      <td>10090887:1640878331632;10090686:1640878095316;...</td>\n",
       "    </tr>\n",
       "    <tr>\n",
       "      <th>...</th>\n",
       "      <td>...</td>\n",
       "      <td>...</td>\n",
       "    </tr>\n",
       "    <tr>\n",
       "      <th>1398963</th>\n",
       "      <td>1641397505962MKVTgo</td>\n",
       "      <td>10137082:1641397836542;10136812:1641397895892;...</td>\n",
       "    </tr>\n",
       "    <tr>\n",
       "      <th>1398965</th>\n",
       "      <td>163722269070823d2sz</td>\n",
       "      <td>10127450:1641315043235;10130228:1641301456003;...</td>\n",
       "    </tr>\n",
       "    <tr>\n",
       "      <th>1398984</th>\n",
       "      <td>1640622537887022</td>\n",
       "      <td>10123004:1641315161620;10131010:1641313915572;...</td>\n",
       "    </tr>\n",
       "    <tr>\n",
       "      <th>1398999</th>\n",
       "      <td>1607954310164fjayp1</td>\n",
       "      <td>10137082:1641365824300;10130460:1641313366798;...</td>\n",
       "    </tr>\n",
       "    <tr>\n",
       "      <th>1399006</th>\n",
       "      <td>1636343959885qz8Db1</td>\n",
       "      <td>10133973:1641338998444;10130294:1641300547334;...</td>\n",
       "    </tr>\n",
       "  </tbody>\n",
       "</table>\n",
       "<p>411848 rows × 2 columns</p>\n",
       "</div>"
      ],
      "text/plain": [
       "                         suv  \\\n",
       "0        1581173072343wnwm3q   \n",
       "15          1622811407723249   \n",
       "46       1631255051069rUc2F4   \n",
       "105      15941340556035hgvd5   \n",
       "118         1532509211790143   \n",
       "...                      ...   \n",
       "1398963  1641397505962MKVTgo   \n",
       "1398965  163722269070823d2sz   \n",
       "1398984     1640622537887022   \n",
       "1398999  1607954310164fjayp1   \n",
       "1399006  1636343959885qz8Db1   \n",
       "\n",
       "                                                   userSeq  \n",
       "0        10094375:1640918979673;10084835:1640836934361;...  \n",
       "15       10095850:1640986831381;10098478:1640986822552;...  \n",
       "46       10072319:1640596871469;10080567:1640771034283;...  \n",
       "105      10091382:1640965592215;10090686:1640965772627;...  \n",
       "118      10090887:1640878331632;10090686:1640878095316;...  \n",
       "...                                                    ...  \n",
       "1398963  10137082:1641397836542;10136812:1641397895892;...  \n",
       "1398965  10127450:1641315043235;10130228:1641301456003;...  \n",
       "1398984  10123004:1641315161620;10131010:1641313915572;...  \n",
       "1398999  10137082:1641365824300;10130460:1641313366798;...  \n",
       "1399006  10133973:1641338998444;10130294:1641300547334;...  \n",
       "\n",
       "[411848 rows x 2 columns]"
      ]
     },
     "execution_count": 8,
     "metadata": {},
     "output_type": "execute_result"
    }
   ],
   "source": [
    "data"
   ]
  },
  {
   "cell_type": "code",
   "execution_count": 9,
   "id": "48964555-ec80-4534-b532-e4d086ce5b08",
   "metadata": {},
   "outputs": [],
   "source": [
    "df_suv_seq['length'] = df_suv_seq.groupby(['suv'])['itemId'].transform('count')\n",
    "\n",
    "df_suv_seq.sort_values(by=['logTs'],ascending=False,inplace=True)\n",
    "df_suv_seq=df_suv_seq.drop_duplicates(keep=False)"
   ]
  },
  {
   "cell_type": "code",
   "execution_count": 10,
   "id": "5958b316-6cd9-469f-91bd-ee036a80214d",
   "metadata": {},
   "outputs": [],
   "source": [
    "df_suv_seq.to_csv(generate+'user_seq.csv',index=False)"
   ]
  }
 ],
 "metadata": {
  "kernelspec": {
   "display_name": "Python 3 (ipykernel)",
   "language": "python",
   "name": "python3"
  },
  "language_info": {
   "codemirror_mode": {
    "name": "ipython",
    "version": 3
   },
   "file_extension": ".py",
   "mimetype": "text/x-python",
   "name": "python",
   "nbconvert_exporter": "python",
   "pygments_lexer": "ipython3",
   "version": "3.8.10"
  }
 },
 "nbformat": 4,
 "nbformat_minor": 5
}
