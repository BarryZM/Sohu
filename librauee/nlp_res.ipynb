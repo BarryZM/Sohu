{
 "cells": [
  {
   "cell_type": "code",
   "execution_count": 1,
   "id": "ddb9e70b",
   "metadata": {},
   "outputs": [],
   "source": [
    "import pandas as pd\n",
    "from tqdm import tqdm\n",
    "from pandas import Series,DataFrame\n",
    "\n",
    "generate='../data/generate/'"
   ]
  },
  {
   "cell_type": "code",
   "execution_count": 2,
   "id": "54a42a65",
   "metadata": {},
   "outputs": [],
   "source": [
    "data=pd.read_csv(generate+'res.txt',sep='\\t')"
   ]
  },
  {
   "cell_type": "code",
   "execution_count": 3,
   "id": "74dc27a5",
   "metadata": {},
   "outputs": [],
   "source": [
    "ids=list()\n",
    "entitys=list()\n",
    "preds=list()"
   ]
  },
  {
   "cell_type": "code",
   "execution_count": 4,
   "id": "84f1a213",
   "metadata": {},
   "outputs": [],
   "source": [
    "for id,entity in zip(data['id'],data['result']):  \n",
    "#   if type(userSeq)==float:\n",
    "#     continue\n",
    "    entity=entity.split('{')[1].split('}')[0]\n",
    "    seq_arr=entity.split(',')\n",
    "    for i in seq_arr:\n",
    "        temp=i.split(':')\n",
    "        ids.append(id)\n",
    "        entitys.append(temp[0])\n",
    "        preds.append(temp[1])\n",
    "    \n",
    "res={\n",
    "    'id':Series(ids),\n",
    "    'entity':Series(entitys),\n",
    "    'pred':Series(preds),\n",
    "}\n",
    "res=DataFrame(res)\n",
    "res.drop_duplicates(inplace=True)"
   ]
  },
  {
   "cell_type": "code",
   "execution_count": 5,
   "id": "16bdc2f9",
   "metadata": {},
   "outputs": [],
   "source": [
    "res['pred']=res['pred'].astype('float')"
   ]
  },
  {
   "cell_type": "code",
   "execution_count": 6,
   "id": "e9baa0c0",
   "metadata": {},
   "outputs": [],
   "source": [
    "res.to_csv(generate+'res(1).csv',index=None)"
   ]
  },
  {
   "cell_type": "code",
   "execution_count": null,
   "id": "97891f7a",
   "metadata": {},
   "outputs": [],
   "source": []
  },
  {
   "cell_type": "code",
   "execution_count": 7,
   "id": "2909c6b1",
   "metadata": {},
   "outputs": [
    {
     "data": {
      "text/plain": [
       "id          int64\n",
       "entity     object\n",
       "pred      float64\n",
       "dtype: object"
      ]
     },
     "execution_count": 7,
     "metadata": {},
     "output_type": "execute_result"
    }
   ],
   "source": [
    "res.dtypes"
   ]
  },
  {
   "cell_type": "code",
   "execution_count": null,
   "id": "02e0077a",
   "metadata": {},
   "outputs": [],
   "source": []
  }
 ],
 "metadata": {
  "kernelspec": {
   "display_name": "Python 3",
   "language": "python",
   "name": "python3"
  },
  "language_info": {
   "codemirror_mode": {
    "name": "ipython",
    "version": 3
   },
   "file_extension": ".py",
   "mimetype": "text/x-python",
   "name": "python",
   "nbconvert_exporter": "python",
   "pygments_lexer": "ipython3",
   "version": "3.9.7"
  }
 },
 "nbformat": 4,
 "nbformat_minor": 5
}
