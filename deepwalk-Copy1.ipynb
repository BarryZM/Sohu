{
 "cells": [
  {
   "cell_type": "markdown",
   "id": "fa67abd8-4905-492b-89fd-2aad46e93334",
   "metadata": {},
   "source": [
    "生成结点信息，供deepwalk读取\n",
    "\n",
    "node1 node2\n",
    "\n",
    "node1 node3\n",
    "\n",
    "node1 node4\n",
    "\n",
    "node1 node5"
   ]
  },
  {
   "cell_type": "code",
   "execution_count": 34,
   "id": "95173221-386b-4c92-96d7-217cc3f384ab",
   "metadata": {
    "tags": []
   },
   "outputs": [
    {
     "name": "stderr",
     "output_type": "stream",
     "text": [
      "146791it [03:15, 751.05it/s]\n",
      "1446it [00:03, 428.15it/s]\n",
      "1535it [00:03, 403.30it/s]\n"
     ]
    }
   ],
   "source": [
    "# 导入包\n",
    "import pandas as pd\n",
    "from tqdm import tqdm\n",
    "\n",
    "generate='./data/generate/'\n",
    "path='./data/rec_data/'\n",
    "\n",
    "# 读取数据，content和entity\n",
    "ids=[]\n",
    "data1=[]\n",
    "data2=[]\n",
    "entity=[]\n",
    "with open(path+'recommend_content_entity_0317.txt','r') as fileTrainRaw:\n",
    "  for line in tqdm(fileTrainRaw):\n",
    "    tmps=eval(line)\n",
    "    id=tmps.get('id')\n",
    "    if id in ids:\n",
    "        continue\n",
    "    else:\n",
    "        ids.append(id)\n",
    "    tmps=tmps.get('entity')\n",
    "    n=len(tmps)\n",
    "    if n<2:\n",
    "      continue\n",
    "    for i in range(n):\n",
    "      if i==0:\n",
    "        data1.append(tmps[i].replace(\" \",\"\"))\n",
    "        data2.append(tmps[i+1].replace(\" \",\"\"))\n",
    "      elif i==n-1:\n",
    "        data1.append(tmps[i].replace(\" \",\"\"))\n",
    "        data2.append(tmps[i-1].replace(\" \",\"\"))\n",
    "      else:\n",
    "        data1.append(tmps[i].replace(\" \",\"\"))\n",
    "        data2.append(tmps[i-1].replace(\" \",\"\"))\n",
    "        data1.append(tmps[i].replace(\" \",\"\"))\n",
    "        data2.append(tmps[i + 1].replace(\" \",\"\"))\n",
    "with open(path+'recommend_content_entity_train.txt','r') as fileTrainRaw:\n",
    "  for line in tqdm(fileTrainRaw):\n",
    "    tmps=eval(line)\n",
    "    id=tmps.get('id')\n",
    "    if id in ids:\n",
    "        continue\n",
    "    else:\n",
    "        ids.append(id)\n",
    "    tmps=tmps.get('entity')\n",
    "    n=len(tmps)\n",
    "    if n<2:\n",
    "      continue\n",
    "    for i in range(n):\n",
    "      if i==0:\n",
    "        data1.append(tmps[i].replace(\" \",\"\"))\n",
    "        data2.append(tmps[i+1].replace(\" \",\"\"))\n",
    "      elif i==n-1:\n",
    "        data1.append(tmps[i].replace(\" \",\"\"))\n",
    "        data2.append(tmps[i-1].replace(\" \",\"\"))\n",
    "      else:\n",
    "        data1.append(tmps[i].replace(\" \",\"\"))\n",
    "        data2.append(tmps[i-1].replace(\" \",\"\"))\n",
    "        data1.append(tmps[i].replace(\" \",\"\"))\n",
    "        data2.append(tmps[i + 1].replace(\" \",\"\"))\n",
    "with open(path+'recommend_content_entity_test.txt','r') as fileTrainRaw:\n",
    "  for line in tqdm(fileTrainRaw):\n",
    "    tmps=eval(line)\n",
    "    id=tmps.get('id')\n",
    "    if id in ids:\n",
    "        continue\n",
    "    else:\n",
    "        ids.append(id)\n",
    "    tmps=tmps.get('entity')\n",
    "    n=len(tmps)\n",
    "    if n<2:\n",
    "      continue\n",
    "    for i in range(n):\n",
    "      if i==0:\n",
    "        data1.append(tmps[i].replace(\" \",\"\"))\n",
    "        data2.append(tmps[i+1].replace(\" \",\"\"))\n",
    "      elif i==n-1:\n",
    "        data1.append(tmps[i].replace(\" \",\"\"))\n",
    "        data2.append(tmps[i-1].replace(\" \",\"\"))\n",
    "      else:\n",
    "        data1.append(tmps[i].replace(\" \",\"\"))\n",
    "        data2.append(tmps[i-1].replace(\" \",\"\"))\n",
    "        data1.append(tmps[i].replace(\" \",\"\"))\n",
    "        data2.append(tmps[i + 1].replace(\" \",\"\"))\n",
    "\n",
    "    \n",
    "cols={\n",
    "  'col1':data1,\n",
    "  'col2':data2\n",
    "}\n",
    "data=pd.DataFrame(cols)\n",
    "\n",
    "data=data[['col1','col2']].value_counts()\n",
    "data=data.to_frame().reset_index()\n",
    "data.rename(columns={0:'weight'},inplace=True)\n",
    "\n",
    "# data.drop_duplicates(inplace=True)\n",
    "data.to_csv(generate+'entitys.txt',sep='\\t',index=False,header=False)"
   ]
  },
  {
   "cell_type": "code",
   "execution_count": 2,
   "id": "34fc4116-f23d-44b8-bcbd-5b0c6d75163f",
   "metadata": {
    "collapsed": true,
    "jupyter": {
     "outputs_hidden": true
    },
    "tags": []
   },
   "outputs": [
    {
     "name": "stderr",
     "output_type": "stream",
     "text": [
      " 28%|██▊       | 22/80 [05:23<14:11, 14.69s/it]\n"
     ]
    },
    {
     "ename": "KeyboardInterrupt",
     "evalue": "",
     "output_type": "error",
     "traceback": [
      "\u001b[0;31m---------------------------------------------------------------------------\u001b[0m",
      "\u001b[0;31mKeyboardInterrupt\u001b[0m                         Traceback (most recent call last)",
      "\u001b[0;32m/tmp/ipykernel_10631/4087337576.py\u001b[0m in \u001b[0;36m<module>\u001b[0;34m\u001b[0m\n\u001b[1;32m     32\u001b[0m \u001b[0mnodes\u001b[0m \u001b[0;34m=\u001b[0m \u001b[0mlist\u001b[0m\u001b[0;34m(\u001b[0m\u001b[0mG\u001b[0m\u001b[0;34m.\u001b[0m\u001b[0mnodes\u001b[0m\u001b[0;34m(\u001b[0m\u001b[0;34m)\u001b[0m\u001b[0;34m)\u001b[0m\u001b[0;34m\u001b[0m\u001b[0;34m\u001b[0m\u001b[0m\n\u001b[1;32m     33\u001b[0m \u001b[0;31m# 得到序列\u001b[0m\u001b[0;34m\u001b[0m\u001b[0;34m\u001b[0m\u001b[0;34m\u001b[0m\u001b[0m\n\u001b[0;32m---> 34\u001b[0;31m \u001b[0mwalks\u001b[0m \u001b[0;34m=\u001b[0m \u001b[0m_simulate_walks\u001b[0m\u001b[0;34m(\u001b[0m\u001b[0mnodes\u001b[0m\u001b[0;34m,\u001b[0m \u001b[0mnum_walks\u001b[0m\u001b[0;34m=\u001b[0m\u001b[0;36m80\u001b[0m\u001b[0;34m,\u001b[0m \u001b[0mwalk_length\u001b[0m\u001b[0;34m=\u001b[0m\u001b[0;36m10\u001b[0m\u001b[0;34m)\u001b[0m\u001b[0;34m\u001b[0m\u001b[0;34m\u001b[0m\u001b[0m\n\u001b[0m\u001b[1;32m     35\u001b[0m \u001b[0;34m\u001b[0m\u001b[0m\n\u001b[1;32m     36\u001b[0m \u001b[0;34m\u001b[0m\u001b[0m\n",
      "\u001b[0;32m/tmp/ipykernel_10631/4087337576.py\u001b[0m in \u001b[0;36m_simulate_walks\u001b[0;34m(nodes, num_walks, walk_length)\u001b[0m\n\u001b[1;32m     26\u001b[0m         \u001b[0mrandom\u001b[0m\u001b[0;34m.\u001b[0m\u001b[0mshuffle\u001b[0m\u001b[0;34m(\u001b[0m\u001b[0mnodes\u001b[0m\u001b[0;34m)\u001b[0m\u001b[0;34m\u001b[0m\u001b[0;34m\u001b[0m\u001b[0m\n\u001b[1;32m     27\u001b[0m         \u001b[0;32mfor\u001b[0m \u001b[0mv\u001b[0m \u001b[0;32min\u001b[0m \u001b[0mnodes\u001b[0m\u001b[0;34m:\u001b[0m\u001b[0;34m\u001b[0m\u001b[0;34m\u001b[0m\u001b[0m\n\u001b[0;32m---> 28\u001b[0;31m             \u001b[0mwalks\u001b[0m\u001b[0;34m.\u001b[0m\u001b[0mappend\u001b[0m\u001b[0;34m(\u001b[0m\u001b[0mdeepwalk_walk\u001b[0m\u001b[0;34m(\u001b[0m\u001b[0mwalk_length\u001b[0m\u001b[0;34m=\u001b[0m\u001b[0mwalk_length\u001b[0m\u001b[0;34m,\u001b[0m \u001b[0mstart_node\u001b[0m\u001b[0;34m=\u001b[0m\u001b[0mv\u001b[0m\u001b[0;34m)\u001b[0m\u001b[0;34m)\u001b[0m\u001b[0;34m\u001b[0m\u001b[0;34m\u001b[0m\u001b[0m\n\u001b[0m\u001b[1;32m     29\u001b[0m     \u001b[0;32mreturn\u001b[0m \u001b[0mwalks\u001b[0m\u001b[0;34m\u001b[0m\u001b[0;34m\u001b[0m\u001b[0m\n\u001b[1;32m     30\u001b[0m \u001b[0;34m\u001b[0m\u001b[0m\n",
      "\u001b[0;32m/tmp/ipykernel_10631/4087337576.py\u001b[0m in \u001b[0;36mdeepwalk_walk\u001b[0;34m(walk_length, start_node)\u001b[0m\n\u001b[1;32m     13\u001b[0m     \u001b[0;32mwhile\u001b[0m \u001b[0mlen\u001b[0m\u001b[0;34m(\u001b[0m\u001b[0mwalk\u001b[0m\u001b[0;34m)\u001b[0m \u001b[0;34m<\u001b[0m \u001b[0mwalk_length\u001b[0m\u001b[0;34m:\u001b[0m\u001b[0;34m\u001b[0m\u001b[0;34m\u001b[0m\u001b[0m\n\u001b[1;32m     14\u001b[0m         \u001b[0mcur\u001b[0m \u001b[0;34m=\u001b[0m \u001b[0mwalk\u001b[0m\u001b[0;34m[\u001b[0m\u001b[0;34m-\u001b[0m\u001b[0;36m1\u001b[0m\u001b[0;34m]\u001b[0m\u001b[0;34m\u001b[0m\u001b[0;34m\u001b[0m\u001b[0m\n\u001b[0;32m---> 15\u001b[0;31m         \u001b[0mcur_nbrs\u001b[0m \u001b[0;34m=\u001b[0m \u001b[0mlist\u001b[0m\u001b[0;34m(\u001b[0m\u001b[0mG\u001b[0m\u001b[0;34m.\u001b[0m\u001b[0mneighbors\u001b[0m\u001b[0;34m(\u001b[0m\u001b[0mcur\u001b[0m\u001b[0;34m)\u001b[0m\u001b[0;34m)\u001b[0m\u001b[0;34m\u001b[0m\u001b[0;34m\u001b[0m\u001b[0m\n\u001b[0m\u001b[1;32m     16\u001b[0m         \u001b[0;32mif\u001b[0m \u001b[0mlen\u001b[0m\u001b[0;34m(\u001b[0m\u001b[0mcur_nbrs\u001b[0m\u001b[0;34m)\u001b[0m \u001b[0;34m>\u001b[0m \u001b[0;36m0\u001b[0m\u001b[0;34m:\u001b[0m\u001b[0;34m\u001b[0m\u001b[0;34m\u001b[0m\u001b[0m\n\u001b[1;32m     17\u001b[0m             \u001b[0mwalk\u001b[0m\u001b[0;34m.\u001b[0m\u001b[0mappend\u001b[0m\u001b[0;34m(\u001b[0m\u001b[0mrandom\u001b[0m\u001b[0;34m.\u001b[0m\u001b[0mchoice\u001b[0m\u001b[0;34m(\u001b[0m\u001b[0mcur_nbrs\u001b[0m\u001b[0;34m)\u001b[0m\u001b[0;34m)\u001b[0m\u001b[0;34m\u001b[0m\u001b[0;34m\u001b[0m\u001b[0m\n",
      "\u001b[0;31mKeyboardInterrupt\u001b[0m: "
     ]
    }
   ],
   "source": [
    "import networkx as nx\n",
    "import random\n",
    "from tqdm import tqdm\n",
    "\n",
    "generate='./data/generate/'\n",
    "path='./data/rec_data/'\n",
    "# create_using=nx.DiGraph() 表示构造的是有向图\n",
    "G = nx.read_edgelist(generate+'entitys.txt', create_using=nx.DiGraph())\n",
    "\n",
    "# 从 start_node 开始随机游走\n",
    "def deepwalk_walk(walk_length, start_node):\n",
    "    walk = [start_node]\n",
    "    while len(walk) < walk_length:\n",
    "        cur = walk[-1]\n",
    "        cur_nbrs = list(G.neighbors(cur))\n",
    "        if len(cur_nbrs) > 0:\n",
    "            walk.append(random.choice(cur_nbrs))\n",
    "        else:\n",
    "            break\n",
    "    return walk\n",
    "\n",
    "# 产生随机游走序列\n",
    "def _simulate_walks(nodes, num_walks, walk_length):\n",
    "    walks = []\n",
    "    for _ in tqdm(range(num_walks)):\n",
    "        random.shuffle(nodes)\n",
    "        for v in nodes:\n",
    "            walks.append(deepwalk_walk(walk_length=walk_length, start_node=v))\n",
    "    return walks\n",
    "\n",
    "# 得到所有节点\n",
    "nodes = list(G.nodes())\n",
    "# 得到序列\n",
    "walks = _simulate_walks(nodes, num_walks=80, walk_length=10)\n",
    "\n",
    "\n",
    "from gensim.models import Word2Vec\n",
    "# 默认嵌入到100维\n",
    "w2v_model = Word2Vec(walks,sg=1,hs=1,vector_size=64)\n",
    "# 打印其中一个节点的嵌入向量\n",
    "# print(w2v_model.wv.key_to_index)\n",
    "\n",
    "w2v_model.wv.save_word2vec_format(generate+'emb.vector', binary=False)\n",
    "w2v_model.save(generate+'emb.model')\n",
    "print(w2v_model.wv.most_similar('北平市',topn=10))\n",
    "print(\"??\")\n",
    "print(w2v_model.wv.most_similar('北平市',topn=100))"
   ]
  },
  {
   "cell_type": "code",
   "execution_count": 4,
   "id": "afff935c-536f-443f-8031-9e8bc9e08ee6",
   "metadata": {
    "collapsed": true,
    "jupyter": {
     "outputs_hidden": true
    },
    "tags": []
   },
   "outputs": [
    {
     "name": "stdout",
     "output_type": "stream",
     "text": [
      "[ 0.03990203  0.0641895  -0.34885606  0.27093658 -0.22365998  0.3471349\n",
      "  0.15444866  0.3447451  -0.21447933  0.4822503  -0.26895115 -0.1906698\n",
      " -0.53301394 -0.49476147  0.01848119  0.17852516 -0.14472598  0.35592097\n",
      "  0.11939192 -0.04230782  0.27578312  0.2562184  -0.23706503  0.22594729\n",
      "  0.12283963  0.20185483 -0.16958737  0.00133557  0.3395754   0.05694688\n",
      " -0.01897004  0.39143223 -0.32678825  0.19225955 -0.29233202  0.13874243\n",
      " -0.40654367 -0.06401161  0.54609334 -0.03138198  0.31439874 -0.02534526\n",
      "  0.25911382 -0.16106983  0.3413832  -0.25512263  0.21221015  0.21619022\n",
      " -0.20629704 -0.08702236  0.16214317  0.20242283 -0.12982441 -0.42438692\n",
      " -0.11670694  0.5105656   0.07102436  0.00733334  0.31607357 -0.31519628\n",
      "  0.04184337  0.4215892   0.19965126  0.27427056]\n"
     ]
    },
    {
     "name": "stderr",
     "output_type": "stream",
     "text": [
      "610it [00:00, 6091.73it/s]"
     ]
    },
    {
     "name": "stdout",
     "output_type": "stream",
     "text": [
      "ygq: 交流充电枪\n",
      "ygq: Raw格式\n",
      "ygq: 打卡指纹膜\n",
      "ygq: 玉韫珠藏\n",
      "ygq: 金蝶KIS记账王\n",
      "ygq: 柏融\n",
      "ygq: 小世君\n",
      "ygq: 老荣华\n",
      "ygq: 循环流化床\n",
      "ygq: 小嗨妹\n",
      "ygq: 圆号\n",
      "ygq: 奴隶社会\n",
      "ygq: 荣信自然\n",
      "ygq: 胜利镇\n",
      "ygq: hifi\n",
      "ygq: 呆呆华\n",
      "ygq: 松脱封\n",
      "ygq: 粉末冶金工艺\n",
      "ygq: 中国养兔联盟\n",
      "ygq: 无忧然\n",
      "ygq: 莱特莱德\n"
     ]
    },
    {
     "name": "stderr",
     "output_type": "stream",
     "text": [
      "1220it [00:00, 6054.16it/s]"
     ]
    },
    {
     "name": "stdout",
     "output_type": "stream",
     "text": [
      "ygq: 熊猫纪念币\n",
      "ygq: 广州市会场家电子商务有限公司\n"
     ]
    },
    {
     "name": "stderr",
     "output_type": "stream",
     "text": [
      "2448it [00:00, 6018.43it/s]"
     ]
    },
    {
     "name": "stdout",
     "output_type": "stream",
     "text": [
      "ygq: 灵芝孢子粉\n",
      "ygq: 小金刚\n",
      "ygq: 特尼君\n",
      "ygq: 绿松石\n",
      "ygq: 老君威\n",
      "ygq: 食品安全国家标准消毒餐（饮）具\n",
      "ygq: 协和系\n",
      "ygq: 卜易轩\n",
      "ygq: 鸡舍山墙\n",
      "ygq: 安邦制药\n",
      "ygq: 小金刚\n",
      "ygq: 柯林斯词典\n",
      "ygq: 成都装修网\n",
      "ygq: 卡卡学堂\n",
      "ygq: 屈肌\n",
      "ygq: 施工导流\n",
      "ygq: uv光解设备\n",
      "ygq: 深圳亚陆行\n",
      "ygq: 张图\n",
      "ygq: 光伏阳光房\n",
      "ygq: 上海办公室\n",
      "ygq: 唯达理财\n",
      "ygq: 搜狐体育\n",
      "ygq: 正压式空气呼吸器\n",
      "ygq: 阿努平台\n",
      "ygq: 欧阳海\n",
      "ygq: 人体悬浮术\n",
      "ygq: 谷饶谷苑\n"
     ]
    },
    {
     "name": "stderr",
     "output_type": "stream",
     "text": [
      "3656it [00:00, 5943.08it/s]"
     ]
    },
    {
     "name": "stdout",
     "output_type": "stream",
     "text": [
      "ygq: 范扎发\n",
      "ygq: 易筋洗髓经\n",
      "ygq: 月阳\n",
      "ygq: 红阳\n",
      "ygq: 北京市朝阳区十里河天娇文化城\n",
      "ygq: Dasha Sergeeva\n",
      "ygq: 泰利必\n",
      "ygq: 二手交易平台\n",
      "ygq: 小叶檀\n",
      "ygq: 陈小捌\n",
      "ygq: 战争与文明\n",
      "ygq: 中国工会章程\n",
      "ygq: 息妹\n",
      "ygq: 小钢丝\n",
      "ygq: 失禁性皮炎\n",
      "ygq: 广东省食药监\n",
      "ygq: 伊丽莎白套\n",
      "ygq: 季秋\n",
      "ygq: 圣劳伦斯\n",
      "ygq: 平常路\n",
      "ygq: 吴爱国\n",
      "ygq: 林昊\n",
      "ygq: 陈植文\n",
      "ygq: 油汀取暖器\n",
      "ygq: 涮锡\n",
      "ygq: 雷雨明\n",
      "ygq: 浙江食品药品监管\n",
      "ygq: 小i\n"
     ]
    },
    {
     "name": "stderr",
     "output_type": "stream",
     "text": [
      "4973it [00:00, 6307.03it/s]"
     ]
    },
    {
     "name": "stdout",
     "output_type": "stream",
     "text": [
      "ygq: 墨早莲\n",
      "ygq: 牛易\n",
      "ygq: 工程机械液压系统管接头\n",
      "ygq: 太原立信会计\n",
      "ygq: 西门子睿致系列\n",
      "ygq: 勃森散热器\n",
      "ygq: 前掌跑法\n",
      "ygq: 全国建造师\n",
      "ygq: 鹰嘴文玩核桃\n",
      "ygq: 胶原蛋白海绵\n",
      "ygq: 毛根\n",
      "ygq: 昌斌\n",
      "ygq: 整体认读音节表\n",
      "ygq: 何黎明\n",
      "ygq: 森泰英格\n",
      "ygq: 温尼科特\n",
      "ygq: 哈农\n",
      "ygq: 阿魏\n",
      "ygq: 聆听\n",
      "ygq: 亚硝酸钠\n",
      "ygq: 沙山\n",
      "ygq: 枪钻\n",
      "ygq: 河南花都时代家具\n",
      "ygq: 卖婆姨\n",
      "ygq: 永东\n",
      "ygq: YU YIMING\n",
      "ygq: 吴印\n",
      "ygq: 亚布力阳光度假村"
     ]
    },
    {
     "name": "stderr",
     "output_type": "stream",
     "text": [
      "6285it [00:01, 6266.13it/s]"
     ]
    },
    {
     "name": "stdout",
     "output_type": "stream",
     "text": [
      "\n",
      "ygq: BAK4棱镜\n",
      "ygq: 财功德佛\n",
      "ygq: 车外温度传感器\n",
      "ygq: DN\n",
      "ygq: 凌利\n",
      "ygq: 分布式账本\n",
      "ygq: 共点力平衡\n",
      "ygq: 氨中毒\n",
      "ygq: 斑马zebra zt410条码打印机\n",
      "ygq: 楼仲平\n",
      "ygq: 济南断桥铝门窗\n",
      "ygq: 菲乐斯\n",
      "ygq: 肠胃炎\n",
      "ygq: 男人是否爱你\n",
      "ygq: 野生宫灯狮子头\n",
      "ygq: 中企动力\n",
      "ygq: jinshiyubobo\n",
      "ygq: 血液游离DNA\n",
      "ygq: 寰枢关节脱位\n",
      "ygq: 云冈矿\n",
      "ygq: 驳壳枪\n",
      "ygq: 新沂市公安局交通警察大队\n",
      "ygq: Drechmeria\n",
      "ygq: 华新国际酒店\n",
      "ygq: V衍生物\n",
      "ygq: 二辊卷板机\n",
      "ygq: 兆方粮油设备公司\n",
      "ygq: 猫化工学院\n"
     ]
    },
    {
     "name": "stderr",
     "output_type": "stream",
     "text": [
      "6915it [00:01, 6268.25it/s]"
     ]
    },
    {
     "name": "stdout",
     "output_type": "stream",
     "text": [
      "ygq: 防尿路\n",
      "ygq: 李家靖\n"
     ]
    },
    {
     "name": "stderr",
     "output_type": "stream",
     "text": [
      "7577it [00:01, 6369.73it/s]"
     ]
    },
    {
     "name": "stdout",
     "output_type": "stream",
     "text": [
      "ygq: 金籁科技\n",
      "ygq: 伊丽莎白套\n",
      "ygq: 四通换向阀\n",
      "ygq: 嵌甲\n",
      "ygq: 巴赫C\n",
      "ygq: 思贤友\n",
      "ygq: ptfe除尘滤袋\n",
      "ygq: 国际电器工程委员会\n",
      "ygq: 广西南宁商彩印务\n",
      "ygq: 省柴省\n",
      "ygq: 怡宝\n",
      "ygq: 苏丹红\n",
      "ygq: 午夜凶铃\n",
      "ygq: 双驼峰\n",
      "ygq: 二次顶出\n",
      "ygq: 鱼嘴里\n",
      "ygq: 麻将\n",
      "ygq: 孙老家\n",
      "ygq: 民谣考级教程\n",
      "ygq: 番茄灰霉病\n",
      "ygq: 古墓丽影暗影\n",
      "ygq: 旦尼尔\n",
      "ygq: 桐木\n",
      "ygq: 远景X3\n",
      "ygq: 花纹钢板理论重量表\n",
      "ygq: 中华本草\n"
     ]
    },
    {
     "name": "stderr",
     "output_type": "stream",
     "text": [
      "8217it [00:01, 6374.10it/s]"
     ]
    },
    {
     "name": "stdout",
     "output_type": "stream",
     "text": [
      "ygq: 清扫口\n",
      "ygq: 同桌的你\n",
      "ygq: 三七粉\n",
      "ygq: 福彩3D\n",
      "ygq: 薄若莱新酒\n",
      "ygq: 冠一桥\n",
      "ygq: Taylor LaShae\n"
     ]
    },
    {
     "name": "stderr",
     "output_type": "stream",
     "text": [
      "9615it [00:01, 6690.94it/s]"
     ]
    },
    {
     "name": "stdout",
     "output_type": "stream",
     "text": [
      "ygq: 第四届商业与经济国际会议\n",
      "ygq: 绿松石微沁\n",
      "ygq: 广西壮族自治区妇幼保健院\n",
      "ygq: SCR系统\n",
      "ygq: 烟气脱硫塔脱硫\n",
      "ygq: P-Q曲线图\n",
      "ygq: 电石二公司\n",
      "ygq: cohesive\n",
      "ygq: 沙沙沙\n",
      "ygq: 3c认证\n",
      "ygq: 康吴波\n",
      "ygq: 管照明\n",
      "ygq: 四季沐歌太阳能\n",
      "ygq: 范闱\n",
      "ygq: 沈嵩\n",
      "ygq: 龙昌动\n",
      "ygq: 杨浩鸣\n",
      "ygq: 微信红包\n",
      "ygq: 塞丹弹坑\n",
      "ygq: 丙烯酸树脂\n",
      "ygq: 小聘姐\n",
      "ygq: 缠丝玛瑙\n",
      "ygq: 重瓦斯\n",
      "ygq: 电子税局\n",
      "ygq: 兰凤\n",
      "ygq: 自体骨骨屑\n",
      "ygq: 旗哥\n",
      "ygq: 雷沃重工\n",
      "ygq: 香杉木生态板\n"
     ]
    },
    {
     "name": "stderr",
     "output_type": "stream",
     "text": [
      "10285it [00:01, 6637.76it/s]"
     ]
    },
    {
     "name": "stdout",
     "output_type": "stream",
     "text": [
      "ygq: 美国杨百翰大学\n",
      "ygq: 北京独特科技\n",
      "ygq: 峰哥\n",
      "ygq: 拉山口\n",
      "ygq: 漏电断路器\n",
      "ygq: 通货膨胀\n",
      "ygq: 上平站\n",
      "ygq: 多彩真石漆\n",
      "ygq: 吕立新\n",
      "ygq: 十一国\n",
      "ygq: alloy\n",
      "ygq: 碧水华庭慧乐幼儿园\n",
      "ygq: PET塑料\n",
      "ygq: 科里斯\n"
     ]
    },
    {
     "name": "stderr",
     "output_type": "stream",
     "text": [
      "10950it [00:01, 6359.40it/s]"
     ]
    },
    {
     "name": "stdout",
     "output_type": "stream",
     "text": [
      "ygq: 本草经疏\n",
      "ygq: 做游戏\n",
      "ygq: 黄褐\n",
      "ygq: 信州区融媒体中心\n",
      "ygq: 何曙光\n",
      "ygq: 双头usb\n",
      "ygq: 乐斯本\n"
     ]
    },
    {
     "name": "stderr",
     "output_type": "stream",
     "text": [
      "11641it [00:01, 6517.82it/s]"
     ]
    },
    {
     "name": "stdout",
     "output_type": "stream",
     "text": [
      "ygq: 重庆良帆线缆\n",
      "ygq: PVC公司\n",
      "ygq: Bass\n",
      "ygq: 金降坡\n",
      "ygq: 格布\n",
      "ygq: 省法院执行指挥中心\n",
      "ygq: 白羽肉鸡\n",
      "ygq: 历史上最伟大的赚钱秘密\n",
      "ygq: 安逸区\n",
      "ygq: 看银河系中心\n",
      "ygq: 贝思特\n",
      "ygq: Origin\n",
      "ygq: 东芝cv620\n",
      "ygq: Breed\n",
      "ygq: 3dmax\n",
      "ygq: 罗刹\n",
      "ygq: 中骏三期\n",
      "ygq: 唐晋阁\n"
     ]
    },
    {
     "name": "stderr",
     "output_type": "stream",
     "text": [
      "12335it [00:01, 6634.43it/s]"
     ]
    },
    {
     "name": "stdout",
     "output_type": "stream",
     "text": [
      "ygq: 松脱封\n",
      "ygq: PPR\n",
      "ygq: 黄酒\n",
      "ygq: 管照明\n",
      "ygq: 正骨手法\n",
      "ygq: 丽霞\n"
     ]
    },
    {
     "name": "stderr",
     "output_type": "stream",
     "text": [
      "13037it [00:02, 6746.39it/s]"
     ]
    },
    {
     "name": "stdout",
     "output_type": "stream",
     "text": [
      "ygq: 浙江科普企业管理咨询有限公司\n",
      "ygq: 小灰\n",
      "ygq: UG数控铣\n",
      "ygq: 余晓维\n",
      "ygq: 熊短\n",
      "ygq: 玄占堂\n",
      "ygq: 燕赵家博会\n",
      "ygq: 完美风暴-3\n",
      "ygq: 吉尼升降车3246\n",
      "ygq: 巳亥\n",
      "ygq: 秦燕\n",
      "ygq: 爱家乐居\n",
      "ygq: 固尔洁地坪工程有限公司\n",
      "ygq: 双电源自动转换开关\n",
      "ygq: 创丰源科技\n",
      "ygq: 群智能建筑技术\n",
      "ygq: 琳丽琳丽\n",
      "ygq: 民用建筑疏散距离\n"
     ]
    },
    {
     "name": "stderr",
     "output_type": "stream",
     "text": [
      "13714it [00:02, 6646.64it/s]"
     ]
    },
    {
     "name": "stdout",
     "output_type": "stream",
     "text": [
      "ygq: 矮短矬\n",
      "ygq: 737NG飞机\n",
      "ygq: mcm\n",
      "ygq: MCC码\n",
      "ygq: 黄麻布\n",
      "ygq: 伍仟张\n",
      "ygq: 氢氧化钙\n",
      "ygq: VDE绝缘工具\n",
      "ygq: 老鸦\n",
      "ygq: 甘泉之吻\n",
      "ygq: 骑士影院\n",
      "ygq: 河长制\n",
      "ygq: 职业病防治法\n"
     ]
    },
    {
     "name": "stderr",
     "output_type": "stream",
     "text": [
      "14466it [00:02, 6902.70it/s]"
     ]
    },
    {
     "name": "stdout",
     "output_type": "stream",
     "text": [
      "ygq: 克朗弗\n",
      "ygq: 安康诺盾\n",
      "ygq: 阿法南猿\n",
      "ygq: 阿法南猿\n",
      "ygq: 茗软云资料\n",
      "ygq: 柯巴脂\n",
      "ygq: APQP\n",
      "ygq: 伤残军人证\n",
      "ygq: 绿水鬼\n",
      "ygq: 决策必读12篇\n",
      "ygq: mean\n",
      "ygq: Baking\n",
      "ygq: 当代汽车\n",
      "ygq: 软启动器\n",
      "ygq: Aion S\n",
      "ygq: 鸡脑脊髓炎\n",
      "ygq: 疏水口\n",
      "ygq: 五行\n"
     ]
    },
    {
     "name": "stderr",
     "output_type": "stream",
     "text": [
      "15158it [00:02, 6828.57it/s]"
     ]
    },
    {
     "name": "stdout",
     "output_type": "stream",
     "text": [
      "ygq: 森拉特\n",
      "ygq: 孔里去\n",
      "ygq: 太阳能电池\n",
      "ygq: 冯名雨\n",
      "ygq: 翻板式挡烟垂壁\n",
      "ygq: 力气\n",
      "ygq: 水处理用臭氧发生器技术要求\n",
      "ygq: 重阳节京剧老艺术家演唱会\n",
      "ygq: 8度区\n",
      "ygq: 胡晓霞\n",
      "ygq: 陈国汉\n"
     ]
    },
    {
     "name": "stderr",
     "output_type": "stream",
     "text": [
      "16590it [00:02, 6984.62it/s]"
     ]
    },
    {
     "name": "stdout",
     "output_type": "stream",
     "text": [
      "ygq: 阿里巴巴新零售淘系技术部\n",
      "ygq: 金钟朗朗\n",
      "ygq: braid\n",
      "ygq: 森拉特\n",
      "ygq: 红虫鲫\n",
      "ygq: 递安\n",
      "ygq: 梁周边\n",
      "ygq: 元夕山\n",
      "ygq: 黄心\n",
      "ygq: 粉压绿松石\n",
      "ygq: 馒头生产厂\n",
      "ygq: 液态硅胶\n",
      "ygq: 中宸国际安保科技集团\n",
      "ygq: 北京鸭\n",
      "ygq: 阳痿宫\n"
     ]
    },
    {
     "name": "stderr",
     "output_type": "stream",
     "text": [
      "17357it [00:02, 7185.84it/s]"
     ]
    },
    {
     "name": "stdout",
     "output_type": "stream",
     "text": [
      "ygq: 北京北钨新材科技有限公司\n",
      "ygq: 螺杆式空气压缩机组\n",
      "ygq: 尼龙坝\n",
      "ygq: 业果神娑尼\n"
     ]
    },
    {
     "name": "stderr",
     "output_type": "stream",
     "text": [
      "18083it [00:02, 7207.74it/s]"
     ]
    },
    {
     "name": "stdout",
     "output_type": "stream",
     "text": [
      "ygq: 枝拉顺\n",
      "ygq: 印石\n",
      "ygq: 齐家敏敏\n",
      "ygq: 扬子石化电仪中心\n",
      "ygq: Zamberlan\n",
      "ygq: 六心\n",
      "ygq: P20模具钢\n",
      "ygq: 电子天平精度\n",
      "ygq: 现代中小学生报\n",
      "ygq: 印小妹\n",
      "ygq: E36\n",
      "ygq: TP-LINK路由器\n",
      "ygq: 白腹幽鹛鸟\n",
      "ygq: 喵姐\n",
      "ygq: 拉森钢板桩\n",
      "ygq: 威能温控器\n",
      "ygq: TPO防水卷材\n"
     ]
    },
    {
     "name": "stderr",
     "output_type": "stream",
     "text": [
      "19549it [00:02, 7269.85it/s]"
     ]
    },
    {
     "name": "stdout",
     "output_type": "stream",
     "text": [
      "ygq: 沃丰素\n",
      "ygq: 055驱逐舰\n",
      "ygq: RTD\n",
      "ygq: 山西传世科技有限公司\n",
      "ygq: 常规局\n",
      "ygq: 新城区消防大队\n",
      "ygq: 李会珺\n",
      "ygq: 护士站智能信息平台\n",
      "ygq: 拉动式生产\n",
      "ygq: LED投光灯\n",
      "ygq: TC4钛合金\n",
      "ygq: 高压疏通清洗机\n",
      "ygq: HART475手操器\n",
      "ygq: 甘州区广播电视台\n"
     ]
    },
    {
     "name": "stderr",
     "output_type": "stream",
     "text": [
      "20277it [00:03, 7139.98it/s]"
     ]
    },
    {
     "name": "stdout",
     "output_type": "stream",
     "text": [
      "ygq: joined\n",
      "ygq: 切角加工工艺\n",
      "ygq: 金琥仙人球\n",
      "ygq: 熔喷布\n",
      "ygq: 江苏连云港嘉一化工有限公司\n",
      "ygq: 印格\n",
      "ygq: 熔喷挤出机\n",
      "ygq: 焦比\n",
      "ygq: 社会常识全知道\n",
      "ygq: 慕青春\n",
      "ygq: 深圳市四季耕耘环境教育有限公司\n",
      "ygq: 丰台街道政务服务中心\n",
      "ygq: 下都\n",
      "ygq: 临商银行\n",
      "ygq: 宙斯盾\n",
      "ygq: 搜狐网评\n",
      "ygq: 企业微信\n",
      "ygq: 弗劳思丹\n",
      "ygq: 笔涂\n",
      "ygq: 风切变"
     ]
    },
    {
     "name": "stderr",
     "output_type": "stream",
     "text": [
      "20992it [00:03, 7108.03it/s]"
     ]
    },
    {
     "name": "stdout",
     "output_type": "stream",
     "text": [
      "\n",
      "ygq: 中华人民共和国海关进出口货物集中申报管理办法\n",
      "ygq: 容纳部\n",
      "ygq: 田峥\n",
      "ygq: 递安\n",
      "ygq: Photoshop Camera\n",
      "ygq: CCI\n",
      "ygq: 提吊手法\n",
      "ygq: 梁作用\n",
      "ygq: 敖游\n",
      "ygq: 黄大泡\n",
      "ygq: Willis环\n",
      "ygq: 食品商务中心\n",
      "ygq: 双铅钓法\n"
     ]
    },
    {
     "name": "stderr",
     "output_type": "stream",
     "text": [
      "21704it [00:03, 7096.51it/s]"
     ]
    },
    {
     "name": "stdout",
     "output_type": "stream",
     "text": [
      "ygq: 健健康康成长记\n",
      "ygq: 奥米多\n",
      "ygq: 富足之家\n",
      "ygq: 日本研究小组\n",
      "ygq: 2-丙二醇\n",
      "ygq: 防疫健康码\n",
      "ygq: 小鲸喜奶茶店\n",
      "ygq: 兰科植物天麻\n",
      "ygq: NFC卡\n",
      "ygq: RO反渗透膜\n",
      "ygq: iPhoneX\n",
      "ygq: 德国银屋暖通国际\n",
      "ygq: 提拔县\n",
      "ygq: 手缝双面羊绒大衣\n",
      "ygq: 金叉\n",
      "ygq: 弦太松\n",
      "ygq: 文星花园小区\n",
      "ygq: 根山\n"
     ]
    },
    {
     "name": "stderr",
     "output_type": "stream",
     "text": [
      "22414it [00:03, 7083.05it/s]"
     ]
    },
    {
     "name": "stdout",
     "output_type": "stream",
     "text": [
      "ygq: 市场电力交易中心\n",
      "ygq: 伊维菌素\n",
      "ygq: 瑞泰人寿\n",
      "ygq: 美国空军作战部\n",
      "ygq: 大深光电\n",
      "ygq: SNCR\n",
      "ygq: 大禾象棋\n",
      "ygq: 湖南省电力有限公司\n",
      "ygq: 科瑞德\n",
      "ygq: 乙二醇\n",
      "ygq: 盐城市教育局\n",
      "ygq: 聚丙二醇ppg400\n",
      "ygq: 印石"
     ]
    },
    {
     "name": "stderr",
     "output_type": "stream",
     "text": [
      "23146it [00:03, 7151.53it/s]"
     ]
    },
    {
     "name": "stdout",
     "output_type": "stream",
     "text": [
      "\n",
      "ygq: 呆呆站\n",
      "ygq: 邵尔A\n",
      "ygq: 安全载流量\n",
      "ygq: 硅碳合金\n",
      "ygq: 活塞式气动马达\n",
      "ygq: 翠姑\n",
      "ygq: 美团闪购商学院\n",
      "ygq: 蒋师傅\n",
      "ygq: 新商盟\n",
      "ygq: 点型火灾探测器\n",
      "ygq: 洞口路\n",
      "ygq: 数一数，比一比\n",
      "ygq: M.2固态硬盘\n",
      "ygq: 思颖\n",
      "ygq: 迷大部份\n",
      "ygq: 李召麒\n"
     ]
    },
    {
     "name": "stderr",
     "output_type": "stream",
     "text": [
      "23877it [00:03, 7198.47it/s]"
     ]
    },
    {
     "name": "stdout",
     "output_type": "stream",
     "text": [
      "ygq: 波源\n",
      "ygq: 阿霞\n",
      "ygq: 李明媛\n",
      "ygq: 智桥\n",
      "ygq: 铜铝复合散热器\n",
      "ygq: 卓高美缝\n",
      "ygq: 小格\n",
      "ygq: 甲维盐\n",
      "ygq: 西奈山\n",
      "ygq: ASICS DESTAQUE FF 2 TF足球鞋\n",
      "ygq: 红外双鉴"
     ]
    },
    {
     "name": "stderr",
     "output_type": "stream",
     "text": [
      "24652it [00:03, 7359.42it/s]"
     ]
    },
    {
     "name": "stdout",
     "output_type": "stream",
     "text": [
      "\n",
      "ygq: 风车茉莉\n",
      "ygq: 窃格瓦拉\n",
      "ygq: MSA\n",
      "ygq: 商品与服务区分表\n",
      "ygq: ukey\n",
      "ygq: 增值税纳税申报表\n",
      "ygq: 丧偶式育儿\n",
      "ygq: 地源热泵空调\n",
      "ygq: 麻醉学\n"
     ]
    },
    {
     "name": "stderr",
     "output_type": "stream",
     "text": [
      "25389it [00:03, 7301.27it/s]"
     ]
    },
    {
     "name": "stdout",
     "output_type": "stream",
     "text": [
      "ygq: 辰土\n",
      "ygq: 孔中心\n",
      "ygq: 马其顿共和国\n",
      "ygq: 乔治明晚\n",
      "ygq: 串联谐振试验\n",
      "ygq: 海中断崖\n",
      "ygq: 赵贺\n",
      "ygq: 小晋\n",
      "ygq: 邹其运\n",
      "ygq: 广厦奖\n"
     ]
    },
    {
     "name": "stderr",
     "output_type": "stream",
     "text": [
      "26154it [00:03, 7403.75it/s]"
     ]
    },
    {
     "name": "stdout",
     "output_type": "stream",
     "text": [
      "ygq: 龙华寺\"好运时来\"生肖鼠卡\n",
      "ygq: 康斯登\n",
      "ygq: 合肥京东方医院\n",
      "ygq: 3C\n",
      "ygq: 启小达\n",
      "ygq: 루비우\n",
      "ygq: Staudinger\n",
      "ygq: 个人所得税赡养老人专项附加扣除标准\n",
      "ygq: 小淳\n"
     ]
    },
    {
     "name": "stderr",
     "output_type": "stream",
     "text": [
      "27611it [00:04, 7139.17it/s]"
     ]
    },
    {
     "name": "stdout",
     "output_type": "stream",
     "text": [
      "ygq: 九江银行南昌分行\n",
      "ygq: 生物安全实验室建筑技术规范\n",
      "ygq: 苹果核\n",
      "ygq: Target\n",
      "ygq: 大唐长安\n",
      "ygq: 中药大辞典\n",
      "ygq: 银川消防\n",
      "ygq: 马秀\n",
      "ygq: 英国阿伯丁郡洛维特研究所\n",
      "ygq: 痛苦中学会\n"
     ]
    },
    {
     "name": "stderr",
     "output_type": "stream",
     "text": [
      "28327it [00:04, 7050.31it/s]"
     ]
    },
    {
     "name": "stdout",
     "output_type": "stream",
     "text": [
      "ygq: 橡胶波纹膨胀节限位螺栓\n",
      "ygq: IF\n",
      "ygq: 中国居民膳食指南2016\n"
     ]
    },
    {
     "name": "stderr",
     "output_type": "stream",
     "text": [
      "29080it [00:04, 7188.92it/s]"
     ]
    },
    {
     "name": "stdout",
     "output_type": "stream",
     "text": [
      "ygq: 小元元\n",
      "ygq: 岳西站\n",
      "ygq: 低合金高强度结构钢\n",
      "ygq: win7\n",
      "ygq: 次氯酸钠\n",
      "ygq: Predator Freak+ AG\n",
      "ygq: 你是我的宝贝\n",
      "ygq: 四川造币厂\n",
      "ygq: 麦饭石锅\n"
     ]
    },
    {
     "name": "stderr",
     "output_type": "stream",
     "text": [
      "29877it [00:04, 7417.69it/s]"
     ]
    },
    {
     "name": "stdout",
     "output_type": "stream",
     "text": [
      "ygq: 市级工商局\n",
      "ygq: 斯皮仁诺\n",
      "ygq: 度娘\n",
      "ygq: 柯汝读邮\n",
      "ygq: 炑阳\n"
     ]
    },
    {
     "name": "stderr",
     "output_type": "stream",
     "text": [
      "30620it [00:04, 7298.92it/s]"
     ]
    },
    {
     "name": "stdout",
     "output_type": "stream",
     "text": [
      "ygq: 中国金属学会\n",
      "ygq: 华为watchgt2pro\n",
      "ygq: 小黄蛉\n",
      "ygq: 消弧线圈接地系统\n",
      "ygq: QQ扩列\n",
      "ygq: 膜法水处理技术\n",
      "ygq: 雷藤\n",
      "ygq: 百米飞人\n",
      "ygq: 魏县广播电视台\n",
      "ygq: 漠西\n"
     ]
    },
    {
     "name": "stderr",
     "output_type": "stream",
     "text": [
      "31371it [00:04, 7358.05it/s]"
     ]
    },
    {
     "name": "stdout",
     "output_type": "stream",
     "text": [
      "ygq: 救济站\n",
      "ygq: 北极星电力网\n",
      "ygq: ALPA\n",
      "ygq: 聚诚实业\n",
      "ygq: 任城区公安分局\n"
     ]
    },
    {
     "name": "stderr",
     "output_type": "stream",
     "text": [
      "32108it [00:04, 7180.50it/s]"
     ]
    },
    {
     "name": "stdout",
     "output_type": "stream",
     "text": [
      "ygq: win7\n",
      "ygq: JBL音箱\n",
      "ygq: 济南速\n",
      "ygq: 我这一生\n",
      "ygq: 美颜SDK\n",
      "ygq: 五粮春\n",
      "ygq: 熊传震\n",
      "ygq: 青州市公安局\n",
      "ygq: 逍遥桥\n",
      "ygq: 税筹龙龙\n",
      "ygq: 戴米罗斯\n"
     ]
    },
    {
     "name": "stderr",
     "output_type": "stream",
     "text": [
      "32908it [00:04, 7419.25it/s]"
     ]
    },
    {
     "name": "stdout",
     "output_type": "stream",
     "text": [
      "ygq: 东莞市胜明自动化设备有限公司\n",
      "ygq: 黄埔口岸\n",
      "ygq: 黎明寅\n",
      "ygq: 劳动厅\n",
      "ygq: 末端\n",
      "ygq: 傅经理\n",
      "ygq: 苏木素\n",
      "ygq: 心灵驿站\n"
     ]
    },
    {
     "name": "stderr",
     "output_type": "stream",
     "text": [
      "34458it [00:05, 7585.53it/s]"
     ]
    },
    {
     "name": "stdout",
     "output_type": "stream",
     "text": [
      "ygq: Wallhaven\n",
      "ygq: 社区店街道\n",
      "ygq: 中国标准化研究院\n",
      "ygq: 科技兴院\n",
      "ygq: 玄凤鹦鹉\n",
      "ygq: 三一智矿\n",
      "ygq: 海滨浴场\n",
      "ygq: 丽江醉乡\n",
      "ygq: 中华人民共和国土地管理法实施条例\n",
      "ygq: 2016年关税调整方案\n"
     ]
    },
    {
     "name": "stderr",
     "output_type": "stream",
     "text": [
      "35972it [00:05, 7452.18it/s]"
     ]
    },
    {
     "name": "stdout",
     "output_type": "stream",
     "text": [
      "ygq: 上海展冀膜结构有限公司\n",
      "ygq: 上海钢度电子商务有限公司\n",
      "ygq: 阿水模\n",
      "ygq: 田一鸣sir\n",
      "ygq: 潍坊市广播电视台\n",
      "ygq: 万华镜工作室\n",
      "ygq: 中建三局信息技术研究院\n",
      "ygq: 中国天猫旗舰店\n",
      "ygq: Soundpath\n",
      "ygq: 维普资讯\n",
      "ygq: 方豁达\n",
      "ygq: 贝壳济南站\n",
      "ygq: 澄清池\n",
      "ygq: 李皓京\n",
      "ygq: 阿璇\n"
     ]
    },
    {
     "name": "stderr",
     "output_type": "stream",
     "text": [
      "37555it [00:05, 7675.51it/s]"
     ]
    },
    {
     "name": "stdout",
     "output_type": "stream",
     "text": [
      "ygq: 海信空调有限公司\n",
      "ygq: 果咩酱\n",
      "ygq: 山东省梁山山鹰化工有限公司\n",
      "ygq: 中羊集团\n"
     ]
    },
    {
     "name": "stderr",
     "output_type": "stream",
     "text": [
      "38453it [00:05, 8060.85it/s]"
     ]
    },
    {
     "name": "stdout",
     "output_type": "stream",
     "text": [
      "ygq: Origin\n",
      "ygq: 江铃福特乘用车\n",
      "ygq: 监察法实施条例\n",
      "ygq: 戈博GERBER\n",
      "ygq: 江铃福特乘用车\n",
      "ygq: 北京中汽通汇吉利\n",
      "ygq: 山东同盛生物科技有限公司\n",
      "ygq: 吾皇\n"
     ]
    },
    {
     "name": "stderr",
     "output_type": "stream",
     "text": [
      "40070it [00:06, 4549.57it/s]"
     ]
    },
    {
     "name": "stdout",
     "output_type": "stream",
     "text": [
      "ygq: 内蒙古额济纳旗委员会\n",
      "ygq: 国家体育场有限责任公司\n",
      "ygq: 江苏省收藏家协会\n",
      "ygq: 余甘子\n",
      "ygq: 中国8090后性福报告\n",
      "ygq: 糜鹿成群\n",
      "ygq: 余建军\n",
      "ygq: 刘琴\n",
      "ygq: 慵懒\n"
     ]
    },
    {
     "name": "stderr",
     "output_type": "stream",
     "text": [
      "42631it [00:06, 6659.21it/s]"
     ]
    },
    {
     "name": "stdout",
     "output_type": "stream",
     "text": [
      "ygq: 阿萨辛\n",
      "ygq: 小红虎\n",
      "ygq: 动物人参\n",
      "ygq: 新冠肺炎疫情应急指挥部\n",
      "ygq: 税筹小七\n",
      "ygq: 房哥\n",
      "ygq: 标准化法\n",
      "ygq: 精尽人亡\n"
     ]
    },
    {
     "name": "stderr",
     "output_type": "stream",
     "text": [
      "44503it [00:06, 7862.18it/s]"
     ]
    },
    {
     "name": "stdout",
     "output_type": "stream",
     "text": [
      "ygq: 医保卡\n",
      "ygq: 源极区\n"
     ]
    },
    {
     "name": "stderr",
     "output_type": "stream",
     "text": [
      "45506it [00:06, 8456.81it/s]"
     ]
    },
    {
     "name": "stdout",
     "output_type": "stream",
     "text": [
      "ygq: 肖猴女\n"
     ]
    },
    {
     "name": "stderr",
     "output_type": "stream",
     "text": [
      "46515it [00:06, 8914.82it/s]"
     ]
    },
    {
     "name": "stdout",
     "output_type": "stream",
     "text": [
      "ygq: 毛混半街\n",
      "ygq: 成都海威华芯科技有限公司\n"
     ]
    },
    {
     "name": "stderr",
     "output_type": "stream",
     "text": [
      "48390it [00:06, 9064.41it/s]"
     ]
    },
    {
     "name": "stdout",
     "output_type": "stream",
     "text": [
      "ygq: 暴富梦\n"
     ]
    },
    {
     "name": "stderr",
     "output_type": "stream",
     "text": [
      "49406it [00:07, 9381.45it/s]"
     ]
    },
    {
     "name": "stdout",
     "output_type": "stream",
     "text": [
      "ygq: 年度湖南省优秀工程勘察设计奖\n"
     ]
    },
    {
     "name": "stderr",
     "output_type": "stream",
     "text": [
      "51312it [00:07, 9375.53it/s]"
     ]
    },
    {
     "name": "stdout",
     "output_type": "stream",
     "text": [
      "ygq: 军队文职最偏爱\n",
      "ygq: 彭苏萍\n",
      "ygq: 氯化锂\n",
      "ygq: 泰安幼儿园\n",
      "ygq: 毛混半街\n",
      "ygq: 仪惠\n",
      "ygq: 知世\n",
      "ygq: 何文强\n",
      "ygq: 莫睡巷\n",
      "ygq: 白\n"
     ]
    },
    {
     "name": "stderr",
     "output_type": "stream",
     "text": [
      "54285it [00:07, 9665.04it/s]"
     ]
    },
    {
     "name": "stdout",
     "output_type": "stream",
     "text": [
      "ygq: 曲求全\n",
      "ygq: 黄雀何\n",
      "ygq: 魂不守舍\n",
      "ygq: 力气\n",
      "ygq: 张亚君\n"
     ]
    },
    {
     "name": "stderr",
     "output_type": "stream",
     "text": [
      "55255it [00:07, 9537.89it/s]"
     ]
    },
    {
     "name": "stdout",
     "output_type": "stream",
     "text": [
      "ygq: 普尔加托\n",
      "ygq: California\n",
      "ygq: 小萨摩耶\n"
     ]
    },
    {
     "name": "stderr",
     "output_type": "stream",
     "text": [
      "59116it [00:08, 9498.57it/s]"
     ]
    },
    {
     "name": "stdout",
     "output_type": "stream",
     "text": [
      "ygq: 王启平\n",
      "ygq: 艾尔莎·霍斯卡\n",
      "ygq: 冬奥·年\n"
     ]
    },
    {
     "name": "stderr",
     "output_type": "stream",
     "text": [
      "61093it [00:08, 9535.36it/s]"
     ]
    },
    {
     "name": "stdout",
     "output_type": "stream",
     "text": [
      "ygq: 蕉岭县人民法院\n",
      "ygq: 正面管教\n",
      "ygq: 毛混半街\n",
      "ygq: 狂拉80斤\n",
      "ygq: 知世\n"
     ]
    },
    {
     "name": "stderr",
     "output_type": "stream",
     "text": [
      "64933it [00:08, 8996.70it/s]"
     ]
    },
    {
     "name": "stdout",
     "output_type": "stream",
     "text": [
      "ygq: 腾飞融媒体中心\n",
      "ygq: 杨俪萍\n"
     ]
    },
    {
     "name": "stderr",
     "output_type": "stream",
     "text": [
      "66806it [00:08, 9201.15it/s]"
     ]
    },
    {
     "name": "stdout",
     "output_type": "stream",
     "text": [
      "ygq: 溪拉琴\n",
      "ygq: 知世\n",
      "ygq: 何师傅\n",
      "ygq: 王小芬\n",
      "ygq: 浙江省科协\n"
     ]
    },
    {
     "name": "stderr",
     "output_type": "stream",
     "text": [
      "70530it [00:09, 9196.10it/s]"
     ]
    },
    {
     "name": "stdout",
     "output_type": "stream",
     "text": [
      "ygq: 存水湾\n",
      "ygq: 小确幸\n"
     ]
    },
    {
     "name": "stderr",
     "output_type": "stream",
     "text": [
      "73483it [00:09, 9449.62it/s]"
     ]
    },
    {
     "name": "stdout",
     "output_type": "stream",
     "text": [
      "ygq: 反歧视\n",
      "ygq: 88式狙击步枪\n",
      "ygq: 知世\n",
      "ygq: DNF2022\n"
     ]
    },
    {
     "name": "stderr",
     "output_type": "stream",
     "text": [
      "75464it [00:09, 9476.50it/s]"
     ]
    },
    {
     "name": "stdout",
     "output_type": "stream",
     "text": [
      "ygq: 信小呆\n",
      "ygq: 做纳路\n"
     ]
    },
    {
     "name": "stderr",
     "output_type": "stream",
     "text": [
      "78346it [00:10, 9328.30it/s]"
     ]
    },
    {
     "name": "stdout",
     "output_type": "stream",
     "text": [
      "ygq: 茶杯犬\n",
      "ygq: 国外医学研究中心\n",
      "ygq: 北大互联网发展研究中心\n",
      "ygq: 洪洞县融媒体中心\n",
      "ygq: 简保君\n",
      "ygq: 萨其马\n"
     ]
    },
    {
     "name": "stderr",
     "output_type": "stream",
     "text": [
      "80246it [00:10, 9176.63it/s]"
     ]
    },
    {
     "name": "stdout",
     "output_type": "stream",
     "text": [
      "ygq: 中控技术\n",
      "ygq: 当兵路\n",
      "ygq: 刘万素\n"
     ]
    },
    {
     "name": "stderr",
     "output_type": "stream",
     "text": [
      "83031it [00:10, 8877.56it/s]"
     ]
    },
    {
     "name": "stdout",
     "output_type": "stream",
     "text": [
      "ygq: 老小\n",
      "ygq: 艾拉·亨特\n"
     ]
    },
    {
     "name": "stderr",
     "output_type": "stream",
     "text": [
      "84842it [00:10, 8923.77it/s]"
     ]
    },
    {
     "name": "stdout",
     "output_type": "stream",
     "text": [
      "ygq: 马骑士\n",
      "ygq: 迷你洗\n",
      "ygq: truly\n",
      "ygq: 鹤望兰\n"
     ]
    },
    {
     "name": "stderr",
     "output_type": "stream",
     "text": [
      "87845it [00:11, 9602.09it/s]"
     ]
    },
    {
     "name": "stdout",
     "output_type": "stream",
     "text": [
      "ygq: 小道君\n",
      "ygq: 延川县公安局\n",
      "ygq: 许一生\n",
      "ygq: cjq\n",
      "ygq: pcx160\n",
      "ygq: 酒主题款三部曲\n"
     ]
    },
    {
     "name": "stderr",
     "output_type": "stream",
     "text": [
      "89763it [00:11, 9327.68it/s]"
     ]
    },
    {
     "name": "stdout",
     "output_type": "stream",
     "text": [
      "ygq: 卡蕾·措科\n",
      "ygq: 凯瑟琳·泽塔-琼斯\n",
      "ygq: 曼月\n",
      "ygq: 陈漫拍\n",
      "ygq: 程晓玥\n"
     ]
    },
    {
     "name": "stderr",
     "output_type": "stream",
     "text": [
      "93573it [00:11, 9494.75it/s]"
     ]
    },
    {
     "name": "stdout",
     "output_type": "stream",
     "text": [
      "ygq: 白鹭\n",
      "ygq: 瘟神\n"
     ]
    },
    {
     "name": "stderr",
     "output_type": "stream",
     "text": [
      "96627it [00:12, 9877.11it/s]"
     ]
    },
    {
     "name": "stdout",
     "output_type": "stream",
     "text": [
      "ygq: 別克君威\n",
      "ygq: truly\n",
      "ygq: 夏邑县广播电视台\n",
      "ygq: 七码复式\n",
      "ygq: 马后炮\n",
      "ygq: 吉祥二宝\n",
      "ygq: 邓峰\n",
      "ygq: 餐小哥\n"
     ]
    },
    {
     "name": "stderr",
     "output_type": "stream",
     "text": [
      "98635it [00:12, 9870.00it/s]"
     ]
    },
    {
     "name": "stdout",
     "output_type": "stream",
     "text": [
      "ygq: 埼玉市\n",
      "ygq: 比格\n",
      "ygq: 中国石化江苏客户服务中心\n",
      "ygq: 玖龙\n",
      "ygq: 桥头交警中队\n",
      "ygq: 旧约\n"
     ]
    },
    {
     "name": "stderr",
     "output_type": "stream",
     "text": [
      "100603it [00:12, 9592.03it/s]"
     ]
    },
    {
     "name": "stdout",
     "output_type": "stream",
     "text": [
      "ygq: 洪洞县融媒体中心\n",
      "ygq: END\n",
      "ygq: 田建卿\n",
      "ygq: 深圳社工学院\n"
     ]
    },
    {
     "name": "stderr",
     "output_type": "stream",
     "text": [
      "103681it [00:12, 9953.29it/s]"
     ]
    },
    {
     "name": "stdout",
     "output_type": "stream",
     "text": [
      "ygq: 中国护理管理\n",
      "ygq: 1月早餐马拉松\n"
     ]
    },
    {
     "name": "stderr",
     "output_type": "stream",
     "text": [
      "105666it [00:13, 9719.91it/s]"
     ]
    },
    {
     "name": "stdout",
     "output_type": "stream",
     "text": [
      "ygq: 关东煮\n",
      "ygq: 沈雅琪\n",
      "ygq: 大乐透001期晒票\n",
      "ygq: 王太弱\n"
     ]
    },
    {
     "name": "stderr",
     "output_type": "stream",
     "text": [
      "108566it [00:13, 9526.61it/s]"
     ]
    },
    {
     "name": "stdout",
     "output_type": "stream",
     "text": [
      "ygq: 王语童\n",
      "ygq: 鲸科生物\n",
      "ygq: 海洋动物救助中心\n",
      "ygq: 晚香玉\n"
     ]
    },
    {
     "name": "stderr",
     "output_type": "stream",
     "text": [
      "110634it [00:13, 9971.58it/s]"
     ]
    },
    {
     "name": "stdout",
     "output_type": "stream",
     "text": [
      "ygq: 紧急迫降\n",
      "ygq: Chill\n",
      "ygq: 劳务公司\n",
      "ygq: 1月早餐马拉松\n",
      "ygq: 金亿城\n",
      "ygq: 咬灾节\n"
     ]
    },
    {
     "name": "stderr",
     "output_type": "stream",
     "text": [
      "113661it [00:13, 9834.73it/s] "
     ]
    },
    {
     "name": "stdout",
     "output_type": "stream",
     "text": [
      "ygq: 一念逍遥\n",
      "ygq: 知世\n",
      "ygq: 规模集团\n",
      "ygq: 卓传洋\n"
     ]
    },
    {
     "name": "stderr",
     "output_type": "stream",
     "text": [
      "116619it [00:14, 9524.95it/s]"
     ]
    },
    {
     "name": "stdout",
     "output_type": "stream",
     "text": [
      "ygq: 杰德·瑟尔沃尔\n",
      "ygq: 螭龙佩\n",
      "ygq: Soulhacler\n"
     ]
    },
    {
     "name": "stderr",
     "output_type": "stream",
     "text": [
      "118776it [00:14, 10240.53it/s]"
     ]
    },
    {
     "name": "stdout",
     "output_type": "stream",
     "text": [
      "ygq: 1月早餐马拉松\n",
      "ygq: 苗伟\n",
      "ygq: 边牧\n"
     ]
    },
    {
     "name": "stderr",
     "output_type": "stream",
     "text": [
      "122762it [00:14, 9655.51it/s] "
     ]
    },
    {
     "name": "stdout",
     "output_type": "stream",
     "text": [
      "ygq: 克洛伊·古德曼\n",
      "ygq: 大学生会\n",
      "ygq: 厦门唯科模塑科技股份有限公司\n",
      "ygq: 伤精\n",
      "ygq: 中国疾控中心结核病预防控制中心\n",
      "ygq: 费斯诺\n",
      "ygq: 女中豪杰\n"
     ]
    },
    {
     "name": "stderr",
     "output_type": "stream",
     "text": [
      "124705it [00:15, 9395.78it/s]"
     ]
    },
    {
     "name": "stdout",
     "output_type": "stream",
     "text": [
      "ygq: 磁悬浮列猫\n"
     ]
    },
    {
     "name": "stderr",
     "output_type": "stream",
     "text": [
      "129273it [00:15, 11124.36it/s]"
     ]
    },
    {
     "name": "stdout",
     "output_type": "stream",
     "text": [
      "ygq: 摩耶\n",
      "ygq: 陈姨\n",
      "ygq: 阿光\n",
      "ygq: 孔里射\n",
      "ygq: 明哥\n",
      "ygq: 交警队\n",
      "ygq: 齐芳\n"
     ]
    },
    {
     "name": "stderr",
     "output_type": "stream",
     "text": [
      "130389it [00:15, 10650.41it/s]"
     ]
    },
    {
     "name": "stdout",
     "output_type": "stream",
     "text": [
      "ygq: 重庆市药品监督管理局\n"
     ]
    },
    {
     "name": "stderr",
     "output_type": "stream",
     "text": [
      "134210it [00:16, 6830.76it/s] "
     ]
    },
    {
     "name": "stdout",
     "output_type": "stream",
     "text": [
      "ygq: 德高义衙\n",
      "ygq: Lolita\n",
      "ygq: 大东湾\n",
      "ygq: 藤本皇后\n",
      "ygq: 愿望综合征\n"
     ]
    },
    {
     "name": "stderr",
     "output_type": "stream",
     "text": [
      "137196it [00:16, 8627.80it/s]"
     ]
    },
    {
     "name": "stdout",
     "output_type": "stream",
     "text": [
      "ygq: 日经225指数\n",
      "ygq: 连体姐妹花\n",
      "ygq: 若雨\n",
      "ygq: 郝豪\n",
      "ygq: 廖卫芳\n"
     ]
    },
    {
     "name": "stderr",
     "output_type": "stream",
     "text": [
      "139244it [00:16, 9390.79it/s]"
     ]
    },
    {
     "name": "stdout",
     "output_type": "stream",
     "text": [
      "ygq: 小成\n",
      "ygq: 新意互动\n"
     ]
    },
    {
     "name": "stderr",
     "output_type": "stream",
     "text": [
      "142155it [00:17, 9126.12it/s]"
     ]
    },
    {
     "name": "stdout",
     "output_type": "stream",
     "text": [
      "ygq: 日本号\n",
      "ygq: 亚历克西斯·诺埃尔\n",
      "ygq: 美菱\n",
      "ygq: 白毅鹏\n",
      "ygq: 日经225指数\n"
     ]
    },
    {
     "name": "stderr",
     "output_type": "stream",
     "text": [
      "145119it [00:17, 9606.49it/s]"
     ]
    },
    {
     "name": "stdout",
     "output_type": "stream",
     "text": [
      "ygq: 青蛙小时候\n",
      "ygq: 白小夕\n",
      "ygq: 王千允\n",
      "ygq: 知世\n",
      "ygq: 日经225指数\n"
     ]
    },
    {
     "name": "stderr",
     "output_type": "stream",
     "text": [
      "146791it [00:17, 8304.62it/s]\n"
     ]
    },
    {
     "name": "stdout",
     "output_type": "stream",
     "text": [
      "ygq: 日常\n",
      "ygq: 崽崽\n",
      "ygq: TFBOYS\n",
      "ygq: 奥迪a4l\n",
      "ygq: 气死猫柜\n",
      "ygq: 沃尔沃XC60发动机\n",
      "ygq: 陈化瘤\n",
      "ygq: 人造海蜇丝\n",
      "ygq: 丙烯酸树脂\n",
      "ygq: 王基强\n",
      "ygq: 晓平\n",
      "ygq: 抽芯铆钉枪\n",
      "ygq: 广州佰伦净化\n"
     ]
    },
    {
     "name": "stderr",
     "output_type": "stream",
     "text": [
      "1446it [00:00, 7990.42it/s]\n"
     ]
    },
    {
     "name": "stdout",
     "output_type": "stream",
     "text": [
      "ygq: 新意互动\n"
     ]
    },
    {
     "name": "stderr",
     "output_type": "stream",
     "text": [
      "803it [00:00, 8029.43it/s]"
     ]
    },
    {
     "name": "stdout",
     "output_type": "stream",
     "text": [
      "ygq: 知世\n"
     ]
    },
    {
     "name": "stderr",
     "output_type": "stream",
     "text": [
      "1535it [00:00, 8120.64it/s]\n"
     ]
    }
   ],
   "source": [
    "from gensim.models import Word2Vec,word2vec,KeyedVectors\n",
    "import numpy as np\n",
    "from tqdm import tqdm\n",
    "import pandas as pd\n",
    "\n",
    "generate='./data/generate/'\n",
    "path='./data/rec_data/'\n",
    "model=KeyedVectors.load_word2vec_format(generate+'emb.vector')\n",
    "\n",
    "print(model['小米'])\n",
    "\n",
    "# print(model.wv.most_similar('小米',topn=10))\n",
    "\n",
    "# 对每个句子的所有词向量取均值，来生成一个句子的vector\n",
    "def build_sentence_vector(sentence, size, w2v_model):\n",
    "    sen_vec = np.zeros(size).reshape((1, size))\n",
    "    count = 0\n",
    "    for word in sentence:\n",
    "        try:\n",
    "            sen_vec += w2v_model[word.replace(\" \",\"\")].reshape((1, size))\n",
    "            count += 1\n",
    "        except KeyError:\n",
    "            print(\"ygq:\",word)\n",
    "            continue\n",
    "    if count != 0:\n",
    "        sen_vec /= count\n",
    "    return sen_vec\n",
    "\n",
    "ids=[]\n",
    "entitys=[]\n",
    "with open(path+'recommend_content_entity_0317.txt','r') as fileTrainRaw:\n",
    "    for line in tqdm(fileTrainRaw):\n",
    "        tmps=eval(line)\n",
    "        id=tmps.get('id')\n",
    "        entity=tmps.get('entity')\n",
    "        emb=build_sentence_vector(entity,64,model)\n",
    "        ids.append(id)\n",
    "        entitys.append(emb.tolist()[0])\n",
    "with open(path+'recommend_content_entity_train.txt','r') as fileTrainRaw:\n",
    "    for line in tqdm(fileTrainRaw):\n",
    "        tmps=eval(line)\n",
    "        id=tmps.get('id')\n",
    "        entity=tmps.get('entity')\n",
    "        emb=build_sentence_vector(entity,64,model)\n",
    "        ids.append(id)\n",
    "        entitys.append(emb.tolist()[0])\n",
    "with open(path+'recommend_content_entity_test.txt','r') as fileTrainRaw:\n",
    "    for line in tqdm(fileTrainRaw):\n",
    "        tmps=eval(line)\n",
    "        id=tmps.get('id')\n",
    "        entity=tmps.get('entity')\n",
    "        emb=build_sentence_vector(entity,64,model)\n",
    "        ids.append(id)\n",
    "        entitys.append(emb.tolist()[0])\n",
    "\n",
    "cols={\n",
    "  'id':ids,\n",
    "  'entity':entitys\n",
    "}\n",
    "data=pd.DataFrame(cols)\n",
    "data.to_feather(generate+'entityEmbedding.feather')\n",
    "# data.to_csv(generate+'entityEmbedding.txt',sep='\\t',index=False,header=False)\n",
    "# # 存在一个问题，向量存进去变成了str"
   ]
  },
  {
   "cell_type": "code",
   "execution_count": null,
   "id": "3f4ada6f-38a6-442e-b564-132de8630267",
   "metadata": {},
   "outputs": [],
   "source": [
    "data"
   ]
  },
  {
   "cell_type": "markdown",
   "id": "2531a234-38b6-4b6e-a3ad-80e452995b98",
   "metadata": {},
   "source": [
    "1. 上述已经生成文章向量表示\n",
    "2. 下面只是对文件进行略微调整"
   ]
  },
  {
   "cell_type": "code",
   "execution_count": null,
   "id": "d476ed2b-a4be-4418-b00c-5a80989d6509",
   "metadata": {},
   "outputs": [],
   "source": [
    "entity = data['entity'].apply(lambda x: pd.Series(x))\n",
    "entity.columns = ['embedding_{}'.format(i) for i in range(64)]\n",
    "data = pd.concat([data, entity], axis=1)\n",
    "\n",
    "data.rename(columns={'id':'itemId'},inplace=True)\n",
    "del data['entity']"
   ]
  },
  {
   "cell_type": "code",
   "execution_count": null,
   "id": "d3b06643-4d20-4d2a-a298-19811eb29763",
   "metadata": {},
   "outputs": [],
   "source": [
    "data.to_feather(generate+'entityEmbedding.feather')"
   ]
  },
  {
   "cell_type": "code",
   "execution_count": null,
   "id": "446648db-16ed-402d-aaa8-c17725d94449",
   "metadata": {},
   "outputs": [],
   "source": [
    "# 读取数据，content和entity\n",
    "itemId=[]\n",
    "entity=[]\n",
    "with open(path+'recommend_content_entity_0317.txt','r') as fileTrainRaw:\n",
    "  for line in tqdm(fileTrainRaw):\n",
    "    tmps=eval(line)\n",
    "    id=tmps.get('id')\n",
    "    tmps=tmps.get('entity')\n",
    "    n=len(tmps)\n",
    "    for i in range(n):\n",
    "        itemId.append(id)\n",
    "        entity.append(tmps[i].replace(\" \",\"\"))\n",
    "with open(path+'recommend_content_entity_train.txt','r') as fileTrainRaw:\n",
    "  for line in tqdm(fileTrainRaw):\n",
    "    tmps=eval(line)\n",
    "    id=tmps.get('id')\n",
    "    tmps=tmps.get('entity')\n",
    "    n=len(tmps)\n",
    "    for i in range(n):\n",
    "        itemId.append(id)\n",
    "        entity.append(tmps[i].replace(\" \",\"\"))\n",
    "with open(path+'recommend_content_entity_test.txt','r') as fileTrainRaw:\n",
    "  for line in tqdm(fileTrainRaw):\n",
    "    tmps=eval(line)\n",
    "    id=tmps.get('id')\n",
    "    tmps=tmps.get('entity')\n",
    "    n=len(tmps)\n",
    "    for i in range(n):\n",
    "        itemId.append(id)\n",
    "        entity.append(tmps[i].replace(\" \",\"\"))"
   ]
  },
  {
   "cell_type": "code",
   "execution_count": null,
   "id": "9c9eb988-eef1-4c88-a40a-0d6b1a225e68",
   "metadata": {},
   "outputs": [],
   "source": [
    "cols={\n",
    "  'itemId':itemId,\n",
    "  'entity':entity\n",
    "}\n",
    "data=pd.DataFrame(cols)\n",
    "data.to_feather(generate+'entitys_raw.feather')"
   ]
  },
  {
   "cell_type": "code",
   "execution_count": 2,
   "id": "b9179c89-105e-4d24-a1e1-b0083af286f3",
   "metadata": {},
   "outputs": [],
   "source": [
    "# 导入包\n",
    "import pandas as pd\n",
    "from tqdm import tqdm\n",
    "\n",
    "generate='./data/generate/'\n",
    "path='./data/rec_data/'"
   ]
  },
  {
   "cell_type": "code",
   "execution_count": 5,
   "id": "0cb40c77-0438-4f0b-bdce-724cd7b3f829",
   "metadata": {},
   "outputs": [],
   "source": [
    "data=pd.read_feather(generate+'entityEmbedding.feather')"
   ]
  },
  {
   "cell_type": "code",
   "execution_count": 7,
   "id": "6f2b33e0-0811-4cdd-81e4-fc1321b57847",
   "metadata": {},
   "outputs": [
    {
     "data": {
      "text/html": [
       "<div>\n",
       "<style scoped>\n",
       "    .dataframe tbody tr th:only-of-type {\n",
       "        vertical-align: middle;\n",
       "    }\n",
       "\n",
       "    .dataframe tbody tr th {\n",
       "        vertical-align: top;\n",
       "    }\n",
       "\n",
       "    .dataframe thead th {\n",
       "        text-align: right;\n",
       "    }\n",
       "</style>\n",
       "<table border=\"1\" class=\"dataframe\">\n",
       "  <thead>\n",
       "    <tr style=\"text-align: right;\">\n",
       "      <th></th>\n",
       "      <th>itemId</th>\n",
       "      <th>embedding_0</th>\n",
       "      <th>embedding_1</th>\n",
       "      <th>embedding_2</th>\n",
       "      <th>embedding_3</th>\n",
       "      <th>embedding_4</th>\n",
       "      <th>embedding_5</th>\n",
       "      <th>embedding_6</th>\n",
       "      <th>embedding_7</th>\n",
       "      <th>embedding_8</th>\n",
       "      <th>...</th>\n",
       "      <th>embedding_54</th>\n",
       "      <th>embedding_55</th>\n",
       "      <th>embedding_56</th>\n",
       "      <th>embedding_57</th>\n",
       "      <th>embedding_58</th>\n",
       "      <th>embedding_59</th>\n",
       "      <th>embedding_60</th>\n",
       "      <th>embedding_61</th>\n",
       "      <th>embedding_62</th>\n",
       "      <th>embedding_63</th>\n",
       "    </tr>\n",
       "  </thead>\n",
       "  <tbody>\n",
       "    <tr>\n",
       "      <th>0</th>\n",
       "      <td>10000000</td>\n",
       "      <td>0.169619</td>\n",
       "      <td>0.067012</td>\n",
       "      <td>-0.184172</td>\n",
       "      <td>-0.511508</td>\n",
       "      <td>0.183153</td>\n",
       "      <td>-0.095429</td>\n",
       "      <td>0.083347</td>\n",
       "      <td>-0.077358</td>\n",
       "      <td>-0.543327</td>\n",
       "      <td>...</td>\n",
       "      <td>0.159309</td>\n",
       "      <td>0.712660</td>\n",
       "      <td>0.100601</td>\n",
       "      <td>0.949217</td>\n",
       "      <td>0.793156</td>\n",
       "      <td>0.416812</td>\n",
       "      <td>-0.331006</td>\n",
       "      <td>0.128246</td>\n",
       "      <td>0.097909</td>\n",
       "      <td>0.135928</td>\n",
       "    </tr>\n",
       "    <tr>\n",
       "      <th>1</th>\n",
       "      <td>10000001</td>\n",
       "      <td>0.144607</td>\n",
       "      <td>-0.779346</td>\n",
       "      <td>0.060994</td>\n",
       "      <td>0.015341</td>\n",
       "      <td>0.199975</td>\n",
       "      <td>-0.671673</td>\n",
       "      <td>0.566447</td>\n",
       "      <td>-0.284230</td>\n",
       "      <td>0.261507</td>\n",
       "      <td>...</td>\n",
       "      <td>0.415479</td>\n",
       "      <td>0.588928</td>\n",
       "      <td>-0.076894</td>\n",
       "      <td>0.130692</td>\n",
       "      <td>0.252781</td>\n",
       "      <td>0.359660</td>\n",
       "      <td>0.840597</td>\n",
       "      <td>0.510573</td>\n",
       "      <td>0.635659</td>\n",
       "      <td>-0.490312</td>\n",
       "    </tr>\n",
       "    <tr>\n",
       "      <th>2</th>\n",
       "      <td>10000002</td>\n",
       "      <td>0.000000</td>\n",
       "      <td>0.000000</td>\n",
       "      <td>0.000000</td>\n",
       "      <td>0.000000</td>\n",
       "      <td>0.000000</td>\n",
       "      <td>0.000000</td>\n",
       "      <td>0.000000</td>\n",
       "      <td>0.000000</td>\n",
       "      <td>0.000000</td>\n",
       "      <td>...</td>\n",
       "      <td>0.000000</td>\n",
       "      <td>0.000000</td>\n",
       "      <td>0.000000</td>\n",
       "      <td>0.000000</td>\n",
       "      <td>0.000000</td>\n",
       "      <td>0.000000</td>\n",
       "      <td>0.000000</td>\n",
       "      <td>0.000000</td>\n",
       "      <td>0.000000</td>\n",
       "      <td>0.000000</td>\n",
       "    </tr>\n",
       "    <tr>\n",
       "      <th>3</th>\n",
       "      <td>10000003</td>\n",
       "      <td>-0.016664</td>\n",
       "      <td>0.348830</td>\n",
       "      <td>-0.783774</td>\n",
       "      <td>-0.134493</td>\n",
       "      <td>0.004738</td>\n",
       "      <td>0.022774</td>\n",
       "      <td>-0.507214</td>\n",
       "      <td>0.116409</td>\n",
       "      <td>0.402529</td>\n",
       "      <td>...</td>\n",
       "      <td>-0.015087</td>\n",
       "      <td>0.705131</td>\n",
       "      <td>0.207758</td>\n",
       "      <td>-0.421699</td>\n",
       "      <td>-0.335046</td>\n",
       "      <td>-0.109649</td>\n",
       "      <td>-0.314808</td>\n",
       "      <td>0.391750</td>\n",
       "      <td>0.324040</td>\n",
       "      <td>0.250994</td>\n",
       "    </tr>\n",
       "    <tr>\n",
       "      <th>4</th>\n",
       "      <td>10000004</td>\n",
       "      <td>0.121303</td>\n",
       "      <td>-0.054179</td>\n",
       "      <td>-0.323527</td>\n",
       "      <td>0.121021</td>\n",
       "      <td>0.028779</td>\n",
       "      <td>-0.030692</td>\n",
       "      <td>-0.137862</td>\n",
       "      <td>-0.439544</td>\n",
       "      <td>0.347013</td>\n",
       "      <td>...</td>\n",
       "      <td>0.228866</td>\n",
       "      <td>0.245712</td>\n",
       "      <td>-0.372444</td>\n",
       "      <td>0.189387</td>\n",
       "      <td>0.117173</td>\n",
       "      <td>-0.351487</td>\n",
       "      <td>-0.311415</td>\n",
       "      <td>-0.024203</td>\n",
       "      <td>0.743892</td>\n",
       "      <td>0.199688</td>\n",
       "    </tr>\n",
       "    <tr>\n",
       "      <th>...</th>\n",
       "      <td>...</td>\n",
       "      <td>...</td>\n",
       "      <td>...</td>\n",
       "      <td>...</td>\n",
       "      <td>...</td>\n",
       "      <td>...</td>\n",
       "      <td>...</td>\n",
       "      <td>...</td>\n",
       "      <td>...</td>\n",
       "      <td>...</td>\n",
       "      <td>...</td>\n",
       "      <td>...</td>\n",
       "      <td>...</td>\n",
       "      <td>...</td>\n",
       "      <td>...</td>\n",
       "      <td>...</td>\n",
       "      <td>...</td>\n",
       "      <td>...</td>\n",
       "      <td>...</td>\n",
       "      <td>...</td>\n",
       "      <td>...</td>\n",
       "    </tr>\n",
       "    <tr>\n",
       "      <th>146786</th>\n",
       "      <td>10146786</td>\n",
       "      <td>0.471591</td>\n",
       "      <td>0.157233</td>\n",
       "      <td>-0.332175</td>\n",
       "      <td>0.254731</td>\n",
       "      <td>-0.207703</td>\n",
       "      <td>0.052986</td>\n",
       "      <td>0.133995</td>\n",
       "      <td>-0.014011</td>\n",
       "      <td>0.025309</td>\n",
       "      <td>...</td>\n",
       "      <td>0.520480</td>\n",
       "      <td>0.128606</td>\n",
       "      <td>0.017385</td>\n",
       "      <td>0.022702</td>\n",
       "      <td>-0.094646</td>\n",
       "      <td>-0.237642</td>\n",
       "      <td>-0.246007</td>\n",
       "      <td>-0.030711</td>\n",
       "      <td>0.145421</td>\n",
       "      <td>0.087445</td>\n",
       "    </tr>\n",
       "    <tr>\n",
       "      <th>146787</th>\n",
       "      <td>10146787</td>\n",
       "      <td>0.338299</td>\n",
       "      <td>-0.063012</td>\n",
       "      <td>-0.134737</td>\n",
       "      <td>-0.023718</td>\n",
       "      <td>-0.488543</td>\n",
       "      <td>-0.292943</td>\n",
       "      <td>0.546237</td>\n",
       "      <td>0.203084</td>\n",
       "      <td>-0.100674</td>\n",
       "      <td>...</td>\n",
       "      <td>-0.301319</td>\n",
       "      <td>0.380286</td>\n",
       "      <td>0.234763</td>\n",
       "      <td>0.014832</td>\n",
       "      <td>0.508225</td>\n",
       "      <td>-0.187779</td>\n",
       "      <td>-0.457506</td>\n",
       "      <td>0.082441</td>\n",
       "      <td>-0.083602</td>\n",
       "      <td>-0.182759</td>\n",
       "    </tr>\n",
       "    <tr>\n",
       "      <th>146788</th>\n",
       "      <td>10146788</td>\n",
       "      <td>0.052775</td>\n",
       "      <td>0.254540</td>\n",
       "      <td>0.220045</td>\n",
       "      <td>0.173306</td>\n",
       "      <td>0.072730</td>\n",
       "      <td>0.075440</td>\n",
       "      <td>0.076344</td>\n",
       "      <td>0.303689</td>\n",
       "      <td>-0.308996</td>\n",
       "      <td>...</td>\n",
       "      <td>0.433590</td>\n",
       "      <td>0.705914</td>\n",
       "      <td>-0.326444</td>\n",
       "      <td>0.086536</td>\n",
       "      <td>0.021641</td>\n",
       "      <td>-0.039090</td>\n",
       "      <td>-0.396556</td>\n",
       "      <td>0.031085</td>\n",
       "      <td>-0.113053</td>\n",
       "      <td>0.134469</td>\n",
       "    </tr>\n",
       "    <tr>\n",
       "      <th>146789</th>\n",
       "      <td>10146789</td>\n",
       "      <td>2.018363</td>\n",
       "      <td>-0.255575</td>\n",
       "      <td>-2.160951</td>\n",
       "      <td>-1.083886</td>\n",
       "      <td>0.219248</td>\n",
       "      <td>-1.659263</td>\n",
       "      <td>-0.972981</td>\n",
       "      <td>0.766477</td>\n",
       "      <td>-0.941354</td>\n",
       "      <td>...</td>\n",
       "      <td>-0.379994</td>\n",
       "      <td>0.197484</td>\n",
       "      <td>-1.136956</td>\n",
       "      <td>0.230440</td>\n",
       "      <td>-0.021388</td>\n",
       "      <td>-0.605519</td>\n",
       "      <td>-0.397280</td>\n",
       "      <td>0.439148</td>\n",
       "      <td>1.145469</td>\n",
       "      <td>-0.601148</td>\n",
       "    </tr>\n",
       "    <tr>\n",
       "      <th>146790</th>\n",
       "      <td>10146790</td>\n",
       "      <td>0.031717</td>\n",
       "      <td>0.170194</td>\n",
       "      <td>0.248510</td>\n",
       "      <td>0.238818</td>\n",
       "      <td>0.075997</td>\n",
       "      <td>0.118455</td>\n",
       "      <td>0.216808</td>\n",
       "      <td>0.442712</td>\n",
       "      <td>-0.299257</td>\n",
       "      <td>...</td>\n",
       "      <td>0.530701</td>\n",
       "      <td>0.606859</td>\n",
       "      <td>-0.423728</td>\n",
       "      <td>0.082857</td>\n",
       "      <td>0.089331</td>\n",
       "      <td>0.006149</td>\n",
       "      <td>-0.575659</td>\n",
       "      <td>0.074081</td>\n",
       "      <td>-0.059765</td>\n",
       "      <td>0.081668</td>\n",
       "    </tr>\n",
       "  </tbody>\n",
       "</table>\n",
       "<p>146791 rows × 65 columns</p>\n",
       "</div>"
      ],
      "text/plain": [
       "          itemId  embedding_0  embedding_1  embedding_2  embedding_3  \\\n",
       "0       10000000     0.169619     0.067012    -0.184172    -0.511508   \n",
       "1       10000001     0.144607    -0.779346     0.060994     0.015341   \n",
       "2       10000002     0.000000     0.000000     0.000000     0.000000   \n",
       "3       10000003    -0.016664     0.348830    -0.783774    -0.134493   \n",
       "4       10000004     0.121303    -0.054179    -0.323527     0.121021   \n",
       "...          ...          ...          ...          ...          ...   \n",
       "146786  10146786     0.471591     0.157233    -0.332175     0.254731   \n",
       "146787  10146787     0.338299    -0.063012    -0.134737    -0.023718   \n",
       "146788  10146788     0.052775     0.254540     0.220045     0.173306   \n",
       "146789  10146789     2.018363    -0.255575    -2.160951    -1.083886   \n",
       "146790  10146790     0.031717     0.170194     0.248510     0.238818   \n",
       "\n",
       "        embedding_4  embedding_5  embedding_6  embedding_7  embedding_8  ...  \\\n",
       "0          0.183153    -0.095429     0.083347    -0.077358    -0.543327  ...   \n",
       "1          0.199975    -0.671673     0.566447    -0.284230     0.261507  ...   \n",
       "2          0.000000     0.000000     0.000000     0.000000     0.000000  ...   \n",
       "3          0.004738     0.022774    -0.507214     0.116409     0.402529  ...   \n",
       "4          0.028779    -0.030692    -0.137862    -0.439544     0.347013  ...   \n",
       "...             ...          ...          ...          ...          ...  ...   \n",
       "146786    -0.207703     0.052986     0.133995    -0.014011     0.025309  ...   \n",
       "146787    -0.488543    -0.292943     0.546237     0.203084    -0.100674  ...   \n",
       "146788     0.072730     0.075440     0.076344     0.303689    -0.308996  ...   \n",
       "146789     0.219248    -1.659263    -0.972981     0.766477    -0.941354  ...   \n",
       "146790     0.075997     0.118455     0.216808     0.442712    -0.299257  ...   \n",
       "\n",
       "        embedding_54  embedding_55  embedding_56  embedding_57  embedding_58  \\\n",
       "0           0.159309      0.712660      0.100601      0.949217      0.793156   \n",
       "1           0.415479      0.588928     -0.076894      0.130692      0.252781   \n",
       "2           0.000000      0.000000      0.000000      0.000000      0.000000   \n",
       "3          -0.015087      0.705131      0.207758     -0.421699     -0.335046   \n",
       "4           0.228866      0.245712     -0.372444      0.189387      0.117173   \n",
       "...              ...           ...           ...           ...           ...   \n",
       "146786      0.520480      0.128606      0.017385      0.022702     -0.094646   \n",
       "146787     -0.301319      0.380286      0.234763      0.014832      0.508225   \n",
       "146788      0.433590      0.705914     -0.326444      0.086536      0.021641   \n",
       "146789     -0.379994      0.197484     -1.136956      0.230440     -0.021388   \n",
       "146790      0.530701      0.606859     -0.423728      0.082857      0.089331   \n",
       "\n",
       "        embedding_59  embedding_60  embedding_61  embedding_62  embedding_63  \n",
       "0           0.416812     -0.331006      0.128246      0.097909      0.135928  \n",
       "1           0.359660      0.840597      0.510573      0.635659     -0.490312  \n",
       "2           0.000000      0.000000      0.000000      0.000000      0.000000  \n",
       "3          -0.109649     -0.314808      0.391750      0.324040      0.250994  \n",
       "4          -0.351487     -0.311415     -0.024203      0.743892      0.199688  \n",
       "...              ...           ...           ...           ...           ...  \n",
       "146786     -0.237642     -0.246007     -0.030711      0.145421      0.087445  \n",
       "146787     -0.187779     -0.457506      0.082441     -0.083602     -0.182759  \n",
       "146788     -0.039090     -0.396556      0.031085     -0.113053      0.134469  \n",
       "146789     -0.605519     -0.397280      0.439148      1.145469     -0.601148  \n",
       "146790      0.006149     -0.575659      0.074081     -0.059765      0.081668  \n",
       "\n",
       "[146791 rows x 65 columns]"
      ]
     },
     "execution_count": 7,
     "metadata": {},
     "output_type": "execute_result"
    }
   ],
   "source": [
    "data.drop_duplicates()"
   ]
  }
 ],
 "metadata": {
  "kernelspec": {
   "display_name": "Python 3 (ipykernel)",
   "language": "python",
   "name": "python3"
  },
  "language_info": {
   "codemirror_mode": {
    "name": "ipython",
    "version": 3
   },
   "file_extension": ".py",
   "mimetype": "text/x-python",
   "name": "python",
   "nbconvert_exporter": "python",
   "pygments_lexer": "ipython3",
   "version": "3.8.10"
  }
 },
 "nbformat": 4,
 "nbformat_minor": 5
}
