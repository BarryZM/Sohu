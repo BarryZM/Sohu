{
 "cells": [
  {
   "cell_type": "code",
   "execution_count": 1,
   "id": "605a4c37-d39c-4ba8-8e00-3a20cec48492",
   "metadata": {},
   "outputs": [],
   "source": [
    "import numpy as np\n",
    "import pandas as pd\n",
    "import pickle\n",
    "from tqdm import tqdm\n",
    "import gc, os\n",
    "import time\n",
    "from datetime import datetime\n",
    "import lightgbm as lgb\n",
    "from sklearn.preprocessing import LabelEncoder, MinMaxScaler\n",
    "import warnings\n",
    "warnings.filterwarnings('ignore')\n",
    "\n",
    "generate='./data/generate/'\n",
    "path='./data/rec_data/'"
   ]
  },
  {
   "cell_type": "code",
   "execution_count": 2,
   "id": "3c4049c2-1931-4bb9-80d6-0ff10d1dabf0",
   "metadata": {},
   "outputs": [],
   "source": [
    "data=pd.read_feather(generate+'DIN_data.feather')"
   ]
  },
  {
   "cell_type": "code",
   "execution_count": 3,
   "id": "259e8bd4-b2f0-46be-bce5-d48e76203a32",
   "metadata": {},
   "outputs": [],
   "source": [
    "del data['hist_itemId']\n",
    "del data['hist_category']"
   ]
  },
  {
   "cell_type": "code",
   "execution_count": 4,
   "id": "5c48b2d2-21b0-4871-a5f5-2178db0aaa6c",
   "metadata": {},
   "outputs": [],
   "source": [
    "sparse_feats = ['pvId','suv','operator', 'browserType', 'deviceType', 'osType', 'province','city'] + ['itemId','category']"
   ]
  },
  {
   "cell_type": "code",
   "execution_count": 5,
   "id": "1701fe16-b8a3-4640-bff7-a1339acda2f6",
   "metadata": {},
   "outputs": [],
   "source": [
    "for f in sparse_feats:\n",
    "        data[f+'_count'] = data[f].map(data[f].value_counts())"
   ]
  },
  {
   "cell_type": "code",
   "execution_count": 6,
   "id": "70217905-fbed-4cd2-9b06-e0a59eff0386",
   "metadata": {},
   "outputs": [],
   "source": [
    "nunique_group = []\n",
    "key_feature = ['pvId','suv']\n",
    "target_feature = ['itemId','category']"
   ]
  },
  {
   "cell_type": "code",
   "execution_count": 7,
   "id": "d1f28a16-80e1-466f-bf6a-e341306f63c5",
   "metadata": {},
   "outputs": [],
   "source": [
    "def group_fea(df, key, target):\n",
    "    # 计算每一个key和多少个不同的target交互\n",
    "    tmp = df.groupby(key, as_index=False)[target].agg({\n",
    "        key + '_' + target + '_nunique': 'nunique',\n",
    "    }).reset_index().drop('index', axis=1)\n",
    "\n",
    "    return tmp"
   ]
  },
  {
   "cell_type": "code",
   "execution_count": 8,
   "id": "18b79cfd-8c18-40d2-a430-7f1b0739cba6",
   "metadata": {},
   "outputs": [],
   "source": [
    "for feat_1 in key_feature:\n",
    "    for feat_2 in target_feature:\n",
    "        if feat_1 + '_' + feat_2 + '_nunique' not in nunique_group:\n",
    "            nunique_group.append(feat_1 + '_' + feat_2 + '_nunique')\n",
    "            tmp = group_fea(data, feat_1, feat_2)\n",
    "            data = data.merge(tmp, on=feat_1, how='left')\n",
    "\n",
    "        if feat_2 + '_' + feat_1 + '_nunique' not in nunique_group:\n",
    "            nunique_group.append(feat_2 + '_' + feat_1 + '_nunique')\n",
    "            tmp = group_fea(data, feat_2, feat_1)\n",
    "            data = data.merge(tmp, on=feat_2, how='left')"
   ]
  },
  {
   "cell_type": "code",
   "execution_count": 9,
   "id": "3f53fa29-1164-4c4a-af8e-d923402ee23e",
   "metadata": {},
   "outputs": [],
   "source": [
    "key_feature = ['itemId']\n",
    "target_feature = ['pvId','suv','operator', 'browserType', 'deviceType', 'osType', 'province','city']\n",
    "\n",
    "for feat_1 in key_feature:\n",
    "    for feat_2 in target_feature:\n",
    "        if feat_1 + '_' + feat_2 + '_nunique' not in nunique_group:\n",
    "            nunique_group.append(feat_1 + '_' + feat_2 + '_nunique')\n",
    "            tmp = group_fea(data, feat_1, feat_2)\n",
    "            data = data.merge(tmp, on=feat_1, how='left')\n",
    "\n",
    "        if feat_2 + '_' + feat_1 + '_nunique' not in nunique_group:\n",
    "            nunique_group.append(feat_2 + '_' + feat_1 + '_nunique')\n",
    "            tmp = group_fea(data, feat_2, feat_1)\n",
    "            data = data.merge(tmp, on=feat_2, how='left')"
   ]
  },
  {
   "cell_type": "code",
   "execution_count": 10,
   "id": "ffc9c908-5ba5-4ec5-a9ab-d075a397c1d5",
   "metadata": {},
   "outputs": [],
   "source": [
    "data.to_feather(generate+'new_data.feather')"
   ]
  },
  {
   "cell_type": "code",
   "execution_count": 11,
   "id": "9f6a3725-64d3-4bb4-9833-255cd3bb43d2",
   "metadata": {},
   "outputs": [
    {
     "data": {
      "text/plain": [
       "Index(['label', 'pvId', 'suv', 'itemId', 'operator', 'browserType',\n",
       "       'deviceType', 'osType', 'province', 'city', 'category', 'pvid_count',\n",
       "       'pvid_item_nunique', 'pvid_suv_nunique', 'item_count',\n",
       "       'item_suv_nunique', 'pvId_count', 'suv_count', 'operator_count',\n",
       "       'browserType_count', 'deviceType_count', 'osType_count',\n",
       "       'province_count', 'city_count', 'itemId_count', 'category_count',\n",
       "       'pvId_itemId_nunique', 'itemId_pvId_nunique', 'pvId_category_nunique',\n",
       "       'category_pvId_nunique', 'suv_itemId_nunique', 'itemId_suv_nunique',\n",
       "       'suv_category_nunique', 'category_suv_nunique',\n",
       "       'itemId_operator_nunique', 'operator_itemId_nunique',\n",
       "       'itemId_browserType_nunique', 'browserType_itemId_nunique',\n",
       "       'itemId_deviceType_nunique', 'deviceType_itemId_nunique',\n",
       "       'itemId_osType_nunique', 'osType_itemId_nunique',\n",
       "       'itemId_province_nunique', 'province_itemId_nunique',\n",
       "       'itemId_city_nunique', 'city_itemId_nunique'],\n",
       "      dtype='object')"
      ]
     },
     "execution_count": 11,
     "metadata": {},
     "output_type": "execute_result"
    }
   ],
   "source": [
    "data.columns"
   ]
  },
  {
   "cell_type": "code",
   "execution_count": 12,
   "id": "cd21251f-d9f3-42b8-b93a-25461c6ad280",
   "metadata": {},
   "outputs": [],
   "source": [
    "import numpy as np\n",
    "import pandas as pd\n",
    "import pickle\n",
    "from tqdm import tqdm\n",
    "import gc, os\n",
    "import time\n",
    "from datetime import datetime\n",
    "import lightgbm as lgb\n",
    "from sklearn.preprocessing import LabelEncoder, MinMaxScaler\n",
    "import warnings\n",
    "warnings.filterwarnings('ignore')\n",
    "\n",
    "generate='./data/generate/'\n",
    "path='./data/rec_data/'"
   ]
  },
  {
   "cell_type": "code",
   "execution_count": 13,
   "id": "f0974e72-bdb3-425e-a02f-b33921db1616",
   "metadata": {},
   "outputs": [],
   "source": [
    "lgb_cols=['pvId', 'suv', 'itemId', 'operator', 'browserType',\n",
    "       'deviceType', 'osType', 'province', 'city', 'category', 'pvid_count',\n",
    "       'pvid_item_nunique', 'item_count', 'pvId_count', 'suv_count', 'operator_count',\n",
    "       'browserType_count', 'deviceType_count', 'osType_count',\n",
    "       'province_count', 'city_count', 'itemId_count', 'category_count',\n",
    "       'pvId_itemId_nunique', 'itemId_pvId_nunique', 'pvId_category_nunique',\n",
    "       'category_pvId_nunique', 'suv_itemId_nunique', 'itemId_suv_nunique',\n",
    "       'suv_category_nunique', 'category_suv_nunique',\n",
    "       'itemId_operator_nunique', 'operator_itemId_nunique',\n",
    "       'itemId_browserType_nunique', 'browserType_itemId_nunique',\n",
    "       'itemId_deviceType_nunique', 'deviceType_itemId_nunique',\n",
    "       'itemId_osType_nunique', 'osType_itemId_nunique',\n",
    "       'itemId_province_nunique', 'province_itemId_nunique',\n",
    "       'itemId_city_nunique', 'city_itemId_nunique']"
   ]
  },
  {
   "cell_type": "code",
   "execution_count": 14,
   "id": "40bb90a5-0544-456c-ab2d-df865d363c30",
   "metadata": {},
   "outputs": [],
   "source": [
    "# 数据处理sparse、dense\n",
    "for feat in ['pvId','suv']:\n",
    "    lbe = LabelEncoder()\n",
    "    data[feat] = lbe.fit_transform(data[feat])\n",
    "    \n",
    "train=data[data['label']!=9]\n",
    "val=data[data['label']==9]\n",
    "del data"
   ]
  },
  {
   "cell_type": "code",
   "execution_count": 15,
   "id": "dc2b33f6-da7e-4988-954a-0b4121a9893f",
   "metadata": {},
   "outputs": [],
   "source": [
    "train['pvid_count_new'] = train.groupby('pvId')['itemId'].transform('count')"
   ]
  },
  {
   "cell_type": "code",
   "execution_count": 16,
   "id": "b2f2cb86-8298-474b-a971-32b4ddbc3a96",
   "metadata": {},
   "outputs": [],
   "source": [
    "tmp=train[['pvId','pvid_count_new']]\n",
    "tmp=tmp.drop_duplicates(keep='first')"
   ]
  },
  {
   "cell_type": "code",
   "execution_count": 17,
   "id": "477240c3-aeac-4741-bf54-a2c754174e70",
   "metadata": {},
   "outputs": [],
   "source": [
    "g_train = tmp['pvid_count_new'].values.tolist()"
   ]
  },
  {
   "cell_type": "code",
   "execution_count": 18,
   "id": "0f5e7d0c-008b-41e7-bd34-89fc3211f3fa",
   "metadata": {},
   "outputs": [
    {
     "data": {
      "text/plain": [
       "299919"
      ]
     },
     "execution_count": 18,
     "metadata": {},
     "output_type": "execute_result"
    }
   ],
   "source": [
    "len(g_train)"
   ]
  },
  {
   "cell_type": "code",
   "execution_count": 19,
   "id": "25787cd5-628a-41ab-a7cd-92bb41482d8d",
   "metadata": {},
   "outputs": [],
   "source": [
    "del train['pvid_count_new']"
   ]
  },
  {
   "cell_type": "code",
   "execution_count": 20,
   "id": "6fb1fa16-d827-4d58-9a03-79c7e18b5449",
   "metadata": {},
   "outputs": [],
   "source": [
    "# 模型及参数的定义\n",
    "lgb_Classfication = lgb.LGBMRanker(boosting_type='gbdt', num_leaves=31, reg_alpha=0.0, reg_lambda=1,objective='lambdarank',\n",
    "                            max_depth=-1, n_estimators=1500, subsample=0.7, colsample_bytree=0.7, subsample_freq=1,\n",
    "                            learning_rate=0.01, min_child_weight=50, random_state=2022, n_jobs= 16)"
   ]
  },
  {
   "cell_type": "code",
   "execution_count": null,
   "id": "1372538b-8891-4280-a460-68d4f615e8d7",
   "metadata": {},
   "outputs": [],
   "source": [
    "lgb_Classfication.fit(train[lgb_cols], train['label'],group=g_train)"
   ]
  },
  {
   "cell_type": "code",
   "execution_count": null,
   "id": "bafb18f2-3139-4c44-acbd-873b06de690a",
   "metadata": {},
   "outputs": [],
   "source": [
    "# 模型预测\n",
    "val['rate'] = lgb_Classfication.predict(val[lgb_cols])"
   ]
  },
  {
   "cell_type": "code",
   "execution_count": null,
   "id": "5a8f1cb0-4e08-4ae1-9fec-798838462095",
   "metadata": {},
   "outputs": [],
   "source": [
    "label_raw=pd.read_csv(path+'rec-train-dataset.csv',usecols=['label'])\n",
    "label_raw=label_raw['label'].tolist()\n",
    "val['label']=label_raw"
   ]
  },
  {
   "cell_type": "code",
   "execution_count": null,
   "id": "539bdd77-3f17-4ac8-960f-80549fd9984f",
   "metadata": {},
   "outputs": [],
   "source": [
    "ygq=val[['label','pvId','rate']]"
   ]
  },
  {
   "cell_type": "code",
   "execution_count": null,
   "id": "9290908d-ec76-4232-a8f9-41749d631309",
   "metadata": {},
   "outputs": [],
   "source": [
    "from sklearn.metrics import roc_auc_score\n",
    "from collections import defaultdict\n",
    "from tqdm import tqdm\n",
    "def uAUC(labels, preds, pvId_list):\n",
    "    user_pred = defaultdict(lambda: [])\n",
    "    user_truth = defaultdict(lambda: [])\n",
    "    for idx, truth in enumerate(labels):\n",
    "        pvId = pvId_list[idx]\n",
    "        pred = preds[idx]\n",
    "        truth = labels[idx]\n",
    "        user_pred[pvId].append(pred)\n",
    "        user_truth[pvId].append(truth)\n",
    "    total_auc = 0.0\n",
    "    size = 0.0\n",
    "    \n",
    "    pvId_flag = defaultdict(lambda: False)\n",
    "    for pvId in set(pvId_list):\n",
    "        truths = user_truth[pvId]\n",
    "        flag = False\n",
    "        for i in range(len(truths) - 1):\n",
    "            if truths[i] != truths[i + 1]:\n",
    "                flag = True\n",
    "                break\n",
    "        pvId_flag[pvId] = flag\n",
    "\n",
    "    for pvId in tqdm(set(pvId_list)):\n",
    "        if pvId_flag[pvId]:\n",
    "            auc = roc_auc_score(np.asarray(user_truth[pvId]), np.asarray(user_pred[pvId]))\n",
    "            total_auc += auc \n",
    "            size += 1.0\n",
    "    # size = max(size, 1)\n",
    "    user_auc = float(total_auc)/size\n",
    "    return user_auc"
   ]
  },
  {
   "cell_type": "code",
   "execution_count": null,
   "id": "55291ba3-2124-4a28-978d-ff22f9cd1809",
   "metadata": {},
   "outputs": [],
   "source": [
    "print(uAUC(ygq['label'].values.tolist(), ygq['rate'].values.tolist(), ygq['pvId'].values.tolist()))"
   ]
  },
  {
   "cell_type": "code",
   "execution_count": null,
   "id": "4796b4f9-1036-4c3a-bb3b-63ee5669848c",
   "metadata": {},
   "outputs": [],
   "source": [
    "ygq"
   ]
  },
  {
   "cell_type": "code",
   "execution_count": null,
   "id": "996ac24e-a59c-40be-a89f-8cda1669a648",
   "metadata": {},
   "outputs": [],
   "source": [
    "df['aa']=lgb_Classfication.feature_importances_()"
   ]
  },
  {
   "cell_type": "code",
   "execution_count": null,
   "id": "77f3a1b4-c755-41a0-8ca8-f76a35469c13",
   "metadata": {},
   "outputs": [],
   "source": [
    "imp_df = pd.DataFrame()\n",
    "imp_df['feats'] = lgb_Classfication.feature_name_\n",
    "imp_df['imp'] = lgb_Classfication.feature_importances_\n",
    "imp_df.sort_values('imp', ascending=False, inplace=True)\n",
    "imp_df.to_csv('./imp_df1.csv')"
   ]
  }
 ],
 "metadata": {
  "kernelspec": {
   "display_name": "Python 3 (ipykernel)",
   "language": "python",
   "name": "python3"
  },
  "language_info": {
   "codemirror_mode": {
    "name": "ipython",
    "version": 3
   },
   "file_extension": ".py",
   "mimetype": "text/x-python",
   "name": "python",
   "nbconvert_exporter": "python",
   "pygments_lexer": "ipython3",
   "version": "3.8.10"
  }
 },
 "nbformat": 4,
 "nbformat_minor": 5
}
