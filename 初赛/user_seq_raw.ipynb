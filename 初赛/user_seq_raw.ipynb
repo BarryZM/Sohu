{
 "cells": [
  {
   "cell_type": "code",
   "execution_count": 1,
   "metadata": {
    "executionInfo": {
     "elapsed": 698,
     "status": "ok",
     "timestamp": 1652525082720,
     "user": {
      "displayName": "bao bei",
      "userId": "02984197117933468187"
     },
     "user_tz": -480
    },
    "id": "c7ZSzfC-aKUs"
   },
   "outputs": [],
   "source": [
    "import pandas as pd\n",
    "from pandas import Series,DataFrame"
   ]
  },
  {
   "cell_type": "code",
   "execution_count": 2,
   "metadata": {
    "executionInfo": {
     "elapsed": 45054,
     "status": "ok",
     "timestamp": 1652525127772,
     "user": {
      "displayName": "bao bei",
      "userId": "02984197117933468187"
     },
     "user_tz": -480
    },
    "id": "vqS20jS5byLK"
   },
   "outputs": [],
   "source": [
    "generate='./data/generate/'\n",
    "rec_path='./data/rec_data/'\n",
    "train=pd.read_csv(rec_path+'train-dataset.csv')\n",
    "test=pd.read_csv(rec_path+'test-dataset.csv')"
   ]
  },
  {
   "cell_type": "code",
   "execution_count": 3,
   "metadata": {
    "executionInfo": {
     "elapsed": 1757,
     "status": "ok",
     "timestamp": 1652525129516,
     "user": {
      "displayName": "bao bei",
      "userId": "02984197117933468187"
     },
     "user_tz": -480
    },
    "id": "YfwltHWZcJ2y"
   },
   "outputs": [],
   "source": [
    "train=train[train['label']==1]\n",
    "train=train[['suv','userSeq']]\n",
    "test=test[['suv','userSeq']]\n",
    "train=pd.concat([train,test])\n",
    "train.drop_duplicates(subset=['suv'],keep='first',inplace=True)"
   ]
  },
  {
   "cell_type": "code",
   "execution_count": 4,
   "metadata": {
    "executionInfo": {
     "elapsed": 6,
     "status": "ok",
     "timestamp": 1652525129517,
     "user": {
      "displayName": "bao bei",
      "userId": "02984197117933468187"
     },
     "user_tz": -480
    },
    "id": "t9tYgV6tLq2B"
   },
   "outputs": [],
   "source": [
    "suv_list=list()\n",
    "itemId_list=list()\n",
    "time_list=list()"
   ]
  },
  {
   "cell_type": "code",
   "execution_count": 5,
   "metadata": {
    "executionInfo": {
     "elapsed": 19180,
     "status": "ok",
     "timestamp": 1652525148692,
     "user": {
      "displayName": "bao bei",
      "userId": "02984197117933468187"
     },
     "user_tz": -480
    },
    "id": "62lnS7zqLuW6"
   },
   "outputs": [],
   "source": [
    "for suv,userSeq in zip(train['suv'],train['userSeq']):  \n",
    "  if type(userSeq)==float:\n",
    "    continue\n",
    "  seq_arr=userSeq.split(';')\n",
    "  for i in seq_arr:\n",
    "    temp=i.split(':')\n",
    "    suv_list.append(suv)\n",
    "    itemId_list.append(temp[0])\n",
    "    time_list.append(temp[1])\n",
    "\n",
    "# for suv,itemId,logTs in zip(train['suv'],train['itemId'],train['logTs']):  \n",
    "#   suv_list.append(suv)\n",
    "#   itemId_list.append(itemId)\n",
    "#   time_list.append(logTs)"
   ]
  },
  {
   "cell_type": "code",
   "execution_count": 6,
   "metadata": {
    "executionInfo": {
     "elapsed": 21021,
     "status": "ok",
     "timestamp": 1652525169699,
     "user": {
      "displayName": "bao bei",
      "userId": "02984197117933468187"
     },
     "user_tz": -480
    },
    "id": "ixdAuXoxQSEy"
   },
   "outputs": [],
   "source": [
    "train_suv_seq={\n",
    "    'suv':Series(suv_list),\n",
    "    'itemId':Series(itemId_list),\n",
    "    'logTs':Series(time_list),\n",
    "}\n",
    "df_train_suv_seq=DataFrame(train_suv_seq)\n",
    "df_train_suv_seq.drop_duplicates(inplace=True)\n",
    "suv_list.clear()\n",
    "itemId_list.clear()\n",
    "time_list.clear()"
   ]
  },
  {
   "cell_type": "code",
   "execution_count": 7,
   "metadata": {
    "colab": {
     "base_uri": "https://localhost:8080/"
    },
    "executionInfo": {
     "elapsed": 52332,
     "status": "ok",
     "timestamp": 1652525222027,
     "user": {
      "displayName": "bao bei",
      "userId": "02984197117933468187"
     },
     "user_tz": -480
    },
    "id": "oiN47CoeMNH3",
    "outputId": "6f05ff29-ce55-47c5-efc6-e108d6bfd5a4"
   },
   "outputs": [],
   "source": [
    "df_train_suv_seq['length'] = df_train_suv_seq.groupby(['suv'])['itemId'].transform('count')\n",
    "\n",
    "df_train_suv_seq.sort_values(by=['logTs'],ascending=False,inplace=True)\n",
    "\n",
    "df_train_suv_seq.drop_duplicates(inplace=True)"
   ]
  },
  {
   "cell_type": "code",
   "execution_count": 8,
   "metadata": {
    "executionInfo": {
     "elapsed": 21579,
     "status": "ok",
     "timestamp": 1652525243602,
     "user": {
      "displayName": "bao bei",
      "userId": "02984197117933468187"
     },
     "user_tz": -480
    },
    "id": "XB-agsDC-wVi"
   },
   "outputs": [],
   "source": [
    "df_train_suv_seq.to_csv(generate+'train_seq_raw.csv',index=False)"
   ]
  }
 ],
 "metadata": {
  "colab": {
   "collapsed_sections": [],
   "name": "user_seq_raw.ipynb",
   "provenance": []
  },
  "kernelspec": {
   "display_name": "Python 3 (ipykernel)",
   "language": "python",
   "name": "python3"
  },
  "language_info": {
   "codemirror_mode": {
    "name": "ipython",
    "version": 3
   },
   "file_extension": ".py",
   "mimetype": "text/x-python",
   "name": "python",
   "nbconvert_exporter": "python",
   "pygments_lexer": "ipython3",
   "version": "3.8.10"
  }
 },
 "nbformat": 4,
 "nbformat_minor": 4
}
