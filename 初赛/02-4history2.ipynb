{
 "cells": [
  {
   "cell_type": "code",
   "execution_count": 1,
   "id": "457fdd69-061a-47a1-8ea9-909e85097fb9",
   "metadata": {},
   "outputs": [],
   "source": [
    "import pandas as pd\n",
    "\n",
    "generate='./data/generate/'\n",
    "path='./data/rec_data/'"
   ]
  },
  {
   "cell_type": "code",
   "execution_count": 2,
   "id": "f546001c-07ac-4904-9cdd-7455998682a3",
   "metadata": {},
   "outputs": [],
   "source": [
    "data=pd.read_feather(generate+'data_all023.feather')"
   ]
  },
  {
   "cell_type": "code",
   "execution_count": 3,
   "id": "f314ffe8-9346-4c8d-8301-a7477cfc1383",
   "metadata": {},
   "outputs": [],
   "source": [
    "user_seq=pd.read_csv(generate+'user_seq_raw.csv',usecols=['suv','itemId','length'])\n",
    "category=pd.read_csv(generate+'category.csv')\n",
    "category.rename(columns={\"id\":\"itemId\"},inplace=True)\n",
    "user_seq=pd.merge(user_seq,category,how='left',on='itemId')"
   ]
  },
  {
   "cell_type": "code",
   "execution_count": 4,
   "id": "a9680cb1-9630-43da-b16c-9b499edefb5f",
   "metadata": {},
   "outputs": [],
   "source": [
    "user_seq['item_count'] = user_seq.groupby('itemId')['suv'].transform('count')"
   ]
  },
  {
   "cell_type": "code",
   "execution_count": 5,
   "id": "c4be338f-3ff0-4099-b4c0-3018ae849eee",
   "metadata": {},
   "outputs": [],
   "source": [
    "def fun(x):\n",
    "    if x<=500:\n",
    "        return 1\n",
    "    elif x<=2000:\n",
    "        return 2\n",
    "    elif x<=6000:\n",
    "        return 3\n",
    "    else:\n",
    "        return 4"
   ]
  },
  {
   "cell_type": "code",
   "execution_count": 6,
   "id": "980c70cf-c712-4dd3-bce9-93f21817d632",
   "metadata": {},
   "outputs": [],
   "source": [
    "user_seq['level']= user_seq['item_count'].apply(lambda x: fun(x))"
   ]
  },
  {
   "cell_type": "code",
   "execution_count": 7,
   "id": "292c5926-ab5e-485d-87b7-d29b607c006d",
   "metadata": {},
   "outputs": [],
   "source": [
    "user_seq=user_seq[['itemId','item_count','level']]\n",
    "user_seq=user_seq.drop_duplicates()\n",
    "user_seq.rename(columns={'item_count':'item_count_new'},inplace=True)"
   ]
  },
  {
   "cell_type": "code",
   "execution_count": 8,
   "id": "aff63d56-110c-4c83-89ad-0e0232821d97",
   "metadata": {},
   "outputs": [],
   "source": [
    "data=pd.merge(data,user_seq,how='left',on='itemId')"
   ]
  },
  {
   "cell_type": "code",
   "execution_count": 10,
   "id": "c81f8991-97e1-4539-9992-55c48c91f6bd",
   "metadata": {},
   "outputs": [],
   "source": [
    "data.to_feather(generate+'data_all024.feather')"
   ]
  }
 ],
 "metadata": {
  "kernelspec": {
   "display_name": "Python 3 (ipykernel)",
   "language": "python",
   "name": "python3"
  },
  "language_info": {
   "codemirror_mode": {
    "name": "ipython",
    "version": 3
   },
   "file_extension": ".py",
   "mimetype": "text/x-python",
   "name": "python",
   "nbconvert_exporter": "python",
   "pygments_lexer": "ipython3",
   "version": "3.8.10"
  }
 },
 "nbformat": 4,
 "nbformat_minor": 5
}
