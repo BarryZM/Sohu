{
 "cells": [
  {
   "cell_type": "code",
   "execution_count": 1,
   "id": "8176c6db-b1e9-4ec8-8871-cd1a846f642a",
   "metadata": {},
   "outputs": [],
   "source": [
    "import pandas as pd\n",
    "\n",
    "generate='./data/generate/'\n",
    "path='./data/rec_data/'"
   ]
  },
  {
   "cell_type": "code",
   "execution_count": 17,
   "id": "8048aa9f-7a8f-4aa1-b3c5-5b61b7c308dd",
   "metadata": {},
   "outputs": [],
   "source": [
    "train=pd.read_csv(generate+'train_all022.csv')\n",
    "test=pd.read_csv(generate+'test_new022.csv')\n",
    "data=pd.concat([train,test])"
   ]
  },
  {
   "cell_type": "code",
   "execution_count": 2,
   "id": "fc34616c-7cea-4bec-af38-e4a72599d544",
   "metadata": {},
   "outputs": [],
   "source": [
    "user_seq=pd.read_csv(generate+'user_seq_raw.csv',usecols=['suv','itemId','length'])\n",
    "category=pd.read_csv(generate+'category.csv')\n",
    "category.rename(columns={\"id\":\"itemId\"},inplace=True)\n",
    "user_seq=pd.merge(user_seq,category,how='left',on='itemId')"
   ]
  },
  {
   "cell_type": "code",
   "execution_count": 3,
   "id": "692af420-1195-4003-984c-014d5de70f54",
   "metadata": {},
   "outputs": [],
   "source": [
    "user_seq['item_count'] = user_seq.groupby('itemId')['suv'].transform('count')"
   ]
  },
  {
   "cell_type": "code",
   "execution_count": 4,
   "id": "2f6d7dad-dfb6-4d75-ab64-73f7cda4bb5d",
   "metadata": {},
   "outputs": [],
   "source": [
    "def fun(x):\n",
    "    if x<=500:\n",
    "        return 1\n",
    "    elif x<=2000:\n",
    "        return 2\n",
    "    elif x<=6000:\n",
    "        return 3\n",
    "    else:\n",
    "        return 4"
   ]
  },
  {
   "cell_type": "code",
   "execution_count": 5,
   "id": "f13add11-3af0-432e-9f61-b9e77004b6c6",
   "metadata": {},
   "outputs": [],
   "source": [
    "user_seq['level']= user_seq['item_count'].apply(lambda x: fun(x))"
   ]
  },
  {
   "cell_type": "code",
   "execution_count": 10,
   "id": "ea8ca8cf-0656-4089-9ceb-a76756475ad4",
   "metadata": {},
   "outputs": [],
   "source": [
    "hist_click=user_seq[['suv','itemId','category','user_level','length','item_count','level']].groupby(['suv','length','user_level']).agg({list}).reset_index()\n",
    "his_behavior_df=pd.DataFrame()\n",
    "his_behavior_df['suv']=hist_click['suv']\n",
    "his_behavior_df['hist_itemId']=hist_click['itemId']\n",
    "his_behavior_df['hist_category']=hist_click['category']\n",
    "his_behavior_df['hist_item_count']=hist_click['item_count']\n",
    "his_behavior_df['hist_item_level']=hist_click['level']\n",
    "his_behavior_df['user_level']=hist_click['user_level']\n",
    "his_behavior_df['length']=hist_click['length']"
   ]
  },
  {
   "cell_type": "code",
   "execution_count": 11,
   "id": "ca3abdda-07af-4564-ba93-60bd498a3f77",
   "metadata": {},
   "outputs": [],
   "source": [
    "tmps=his_behavior_df['hist_itemId'].values.tolist()\n",
    "for i in range(len(tmps)):\n",
    "    if not isinstance(tmps[i],list):\n",
    "        tmps[i]=[0]\n",
    "    tmps[i]=tmps[i]+[0]*(21-len(tmps[i]))\n",
    "his_behavior_df['hist_itemId']=tmps\n",
    "\n",
    "tmps=his_behavior_df['hist_category'].values.tolist()\n",
    "for i in range(len(tmps)):\n",
    "    if not isinstance(tmps[i],list):\n",
    "        tmps[i]=[0]\n",
    "    tmps[i]=tmps[i]+[0]*(21-len(tmps[i]))\n",
    "his_behavior_df['hist_category']=tmps\n",
    "\n",
    "tmps=his_behavior_df['hist_item_count'].values.tolist()\n",
    "for i in range(len(tmps)):\n",
    "    if not isinstance(tmps[i],list):\n",
    "        tmps[i]=[0]\n",
    "    tmps[i]=tmps[i]+[0]*(21-len(tmps[i]))\n",
    "his_behavior_df['hist_item_count']=tmps\n",
    "\n",
    "tmps=his_behavior_df['hist_item_level'].values.tolist()\n",
    "for i in range(len(tmps)):\n",
    "    if not isinstance(tmps[i],list):\n",
    "        tmps[i]=[0]\n",
    "    tmps[i]=tmps[i]+[0]*(21-len(tmps[i]))\n",
    "his_behavior_df['hist_item_level']=tmps"
   ]
  },
  {
   "cell_type": "code",
   "execution_count": 12,
   "id": "fcfbdb96-3737-40cb-ba35-83815422e62b",
   "metadata": {},
   "outputs": [],
   "source": [
    "hist_itemId = his_behavior_df['hist_itemId'].apply(lambda x: pd.Series(x))\n",
    "hist_itemId.columns = ['hist_itemId{}'.format(i) for i in range(21)]\n",
    "his_behavior_df = pd.concat([his_behavior_df, hist_itemId], axis=1)\n",
    "\n",
    "hist_category = his_behavior_df['hist_category'].apply(lambda x: pd.Series(x))\n",
    "hist_category.columns = ['hist_category{}'.format(i) for i in range(21)]\n",
    "his_behavior_df = pd.concat([his_behavior_df, hist_category], axis=1)\n",
    "\n",
    "hist_item_count = his_behavior_df['hist_item_count'].apply(lambda x: pd.Series(x))\n",
    "hist_item_count.columns = ['hist_item_count{}'.format(i) for i in range(21)]\n",
    "his_behavior_df = pd.concat([his_behavior_df, hist_item_count], axis=1)\n",
    "\n",
    "hist_item_level = his_behavior_df['hist_item_level'].apply(lambda x: pd.Series(x))\n",
    "hist_item_level.columns = ['hist_item_level{}'.format(i) for i in range(21)]\n",
    "his_behavior_df = pd.concat([his_behavior_df, hist_item_level], axis=1)"
   ]
  },
  {
   "cell_type": "code",
   "execution_count": 14,
   "id": "17fc31cf-75ee-4ce2-8f3b-b3d183582547",
   "metadata": {},
   "outputs": [],
   "source": [
    "del his_behavior_df['hist_itemId']\n",
    "del his_behavior_df['hist_category']\n",
    "del his_behavior_df['hist_item_count']\n",
    "del his_behavior_df['hist_item_level']"
   ]
  },
  {
   "cell_type": "code",
   "execution_count": 19,
   "id": "79791187-726f-4ffa-bb1b-ce2989258087",
   "metadata": {},
   "outputs": [],
   "source": [
    "data=pd.merge(data,his_behavior_df,how='left',on='suv')"
   ]
  },
  {
   "cell_type": "code",
   "execution_count": 22,
   "id": "de78ef98-5936-42d9-8af8-e4b69a3e5c29",
   "metadata": {},
   "outputs": [],
   "source": [
    "data.to_feather(generate+'data_all023.feather')"
   ]
  },
  {
   "cell_type": "code",
   "execution_count": null,
   "id": "7e6b8b92-7ddd-486b-af9c-5daa7d4221c9",
   "metadata": {},
   "outputs": [],
   "source": []
  }
 ],
 "metadata": {
  "kernelspec": {
   "display_name": "Python 3 (ipykernel)",
   "language": "python",
   "name": "python3"
  },
  "language_info": {
   "codemirror_mode": {
    "name": "ipython",
    "version": 3
   },
   "file_extension": ".py",
   "mimetype": "text/x-python",
   "name": "python",
   "nbconvert_exporter": "python",
   "pygments_lexer": "ipython3",
   "version": "3.8.10"
  }
 },
 "nbformat": 4,
 "nbformat_minor": 5
}
