{
 "cells": [
  {
   "cell_type": "code",
   "execution_count": 1,
   "id": "5c55d8c2-3c82-4081-99a8-f4cf466bdc6c",
   "metadata": {},
   "outputs": [],
   "source": [
    "import numpy as np\n",
    "import pandas as pd\n",
    "import time\n",
    "from datetime import datetime\n",
    "import warnings\n",
    "warnings.filterwarnings('ignore')\n",
    "\n",
    "generate='./data/generate/'\n",
    "path='./data/rec_data/'"
   ]
  },
  {
   "cell_type": "code",
   "execution_count": 2,
   "id": "3a2c4ef9-ab69-4deb-b575-a536f1bd2e72",
   "metadata": {},
   "outputs": [],
   "source": [
    "train=pd.read_csv(path+'train-dataset.csv')\n",
    "test=pd.read_csv(path+'test-dataset.csv')\n",
    "del train['sampleId']\n",
    "del test['testSampleId']\n",
    "data=pd.concat([train,test])"
   ]
  },
  {
   "cell_type": "code",
   "execution_count": 3,
   "id": "04e80ca1-ac82-478d-bc88-15dad8883827",
   "metadata": {},
   "outputs": [],
   "source": [
    "data['date']=data['logTs'].apply(lambda x: time.strftime(\"%Y-%m-%d %H:%M:%S\", time.localtime(x/1000)))\n",
    "data['date']=data['date'].apply(lambda x:pd.Timestamp(x))\n",
    "data['day']=data['date'].apply(lambda x:x.day)\n",
    "del data['date']"
   ]
  },
  {
   "cell_type": "code",
   "execution_count": 4,
   "id": "5bb35e90-dbe8-43a6-aada-a2427cb6efc1",
   "metadata": {},
   "outputs": [],
   "source": [
    "train=data[data['label'].notna()]\n",
    "test=data[data['label'].isna()]\n",
    "train_new=train[train['day']<3]\n",
    "valid_new=train[train['day']==3]"
   ]
  },
  {
   "cell_type": "code",
   "execution_count": 5,
   "id": "6d4c38b9-76f0-4589-9c8b-22c848c80760",
   "metadata": {},
   "outputs": [],
   "source": [
    "train_new.to_csv(generate+'train_new01.csv',index=False)\n",
    "valid_new.to_csv(generate+'valid_new01.csv',index=False)\n",
    "test.to_csv(generate+'test_new01.csv',index=False)\n",
    "train=pd.concat([train_new,valid_new])\n",
    "train.to_csv(generate+'train_all01.csv',index=False)"
   ]
  }
 ],
 "metadata": {
  "kernelspec": {
   "display_name": "Python 3 (ipykernel)",
   "language": "python",
   "name": "python3"
  },
  "language_info": {
   "codemirror_mode": {
    "name": "ipython",
    "version": 3
   },
   "file_extension": ".py",
   "mimetype": "text/x-python",
   "name": "python",
   "nbconvert_exporter": "python",
   "pygments_lexer": "ipython3",
   "version": "3.8.10"
  }
 },
 "nbformat": 4,
 "nbformat_minor": 5
}
