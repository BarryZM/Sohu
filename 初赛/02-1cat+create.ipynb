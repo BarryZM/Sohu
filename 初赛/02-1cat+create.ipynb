{
 "cells": [
  {
   "cell_type": "code",
   "execution_count": 1,
   "id": "ebd4af69-9d64-41a6-b714-1825d8b4017c",
   "metadata": {},
   "outputs": [],
   "source": [
    "import numpy as np\n",
    "import pandas as pd\n",
    "import pickle\n",
    "from tqdm import tqdm\n",
    "import gc, os\n",
    "import time\n",
    "from datetime import datetime\n",
    "import lightgbm as lgb\n",
    "from sklearn.preprocessing import LabelEncoder, MinMaxScaler\n",
    "import warnings\n",
    "warnings.filterwarnings('ignore')\n",
    "\n",
    "generate='./data/generate/'\n",
    "path='./data/rec_data/'"
   ]
  },
  {
   "cell_type": "code",
   "execution_count": 2,
   "id": "5b5bf472-3033-49a5-9e46-4ec7870e7c1e",
   "metadata": {},
   "outputs": [],
   "source": [
    "train=pd.read_csv(generate+'train_new01.csv')\n",
    "val=pd.read_csv(generate+'valid_new01.csv')\n",
    "test=pd.read_csv(generate+'test_new01.csv')\n",
    "category=pd.read_csv(generate+'category.csv')\n",
    "category.rename(columns={\"id\":\"itemId\"},inplace=True)\n",
    "# category10=pd.read_csv(generate+'category10.csv')\n",
    "# category10.rename(columns={\"id\":\"itemId\"},inplace=True)\n",
    "# category=pd.merge(category,category10,how='left',on='itemId')\n",
    "\n",
    "data=pd.concat([train,val])\n",
    "data=pd.concat([data,test])\n",
    "data=pd.merge(data,category,how='left',on='itemId')"
   ]
  },
  {
   "cell_type": "code",
   "execution_count": 3,
   "id": "2281a7cb-3d93-4257-ab81-8502b185f80f",
   "metadata": {},
   "outputs": [],
   "source": [
    "# 造点统计特征\n",
    "\n",
    "data['pvid_count'] = data.groupby('pvId')['itemId'].transform('count')\n",
    "data['pvid_item_nunique'] = data.groupby('pvId')['itemId'].transform('nunique')\n",
    "data['pvid_suv_nunique'] = data.groupby('pvId')['suv'].transform('nunique')\n",
    "\n",
    "data['item_count'] = data.groupby('itemId')['itemId'].transform('count')\n",
    "data['item_suv_nunique'] = data.groupby('pvId')['suv'].transform('nunique')"
   ]
  },
  {
   "cell_type": "code",
   "execution_count": 4,
   "id": "6c9fd421-dddb-4a15-a82c-3e83f7f3783f",
   "metadata": {},
   "outputs": [],
   "source": [
    "# # 数据处理sparse、dense\n",
    "# for feat in ['pvId','suv']:\n",
    "#     lbe = LabelEncoder()\n",
    "#     data[feat] = lbe.fit_transform(data[feat])\n",
    "\n",
    "train=data[data['label'].notna()]\n",
    "val=train[train['day']==3]\n",
    "train=train[train['day']<3]\n",
    "\n",
    "test=data[data['label'].isna()]\n",
    "del data"
   ]
  },
  {
   "cell_type": "code",
   "execution_count": 5,
   "id": "d1fcb673-b0f6-464d-a916-274ac278fc0c",
   "metadata": {},
   "outputs": [],
   "source": [
    "train.to_csv(generate+'train_new021.csv',index=False)\n",
    "val.to_csv(generate+'valid_new021.csv',index=False)\n",
    "data=pd.concat([train,val])\n",
    "data.to_csv(generate+'train_all021.csv',index=False)\n",
    "test.to_csv(generate+'test_new021.csv',index=False)"
   ]
  }
 ],
 "metadata": {
  "kernelspec": {
   "display_name": "Python 3 (ipykernel)",
   "language": "python",
   "name": "python3"
  },
  "language_info": {
   "codemirror_mode": {
    "name": "ipython",
    "version": 3
   },
   "file_extension": ".py",
   "mimetype": "text/x-python",
   "name": "python",
   "nbconvert_exporter": "python",
   "pygments_lexer": "ipython3",
   "version": "3.8.10"
  }
 },
 "nbformat": 4,
 "nbformat_minor": 5
}
