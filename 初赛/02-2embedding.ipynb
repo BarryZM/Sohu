{
 "cells": [
  {
   "cell_type": "code",
   "execution_count": 1,
   "id": "e5161df2-0f4e-45af-b0a9-fa9a5564a1b6",
   "metadata": {},
   "outputs": [],
   "source": [
    "import pandas as pd\n",
    "\n",
    "generate='./data/generate/'\n",
    "path='./data/rec_data/'"
   ]
  },
  {
   "cell_type": "code",
   "execution_count": 2,
   "id": "ed31226c-61d5-4261-a411-fa5e6fc59c1b",
   "metadata": {},
   "outputs": [],
   "source": [
    "train=pd.read_csv(generate+'train_all021.csv')\n",
    "test=pd.read_csv(generate+'test_new021.csv')\n",
    "train=pd.concat([train,test])\n",
    "data=pd.read_feather(generate+'entityEmbedding.feather')"
   ]
  },
  {
   "cell_type": "code",
   "execution_count": 3,
   "id": "f161e4c6-c9a4-44da-b93a-8d8333bb9674",
   "metadata": {},
   "outputs": [],
   "source": [
    "entity = data['entity'].apply(lambda x: pd.Series(x))\n",
    "entity.columns = ['embedding_{}'.format(i) for i in range(16)]\n",
    "data = pd.concat([data, entity], axis=1)\n",
    "\n",
    "data.rename(columns={'id':'itemId'},inplace=True)\n",
    "del data['entity']"
   ]
  },
  {
   "cell_type": "code",
   "execution_count": 4,
   "id": "eab1b27d-b303-42f1-9ff6-85ff04a22947",
   "metadata": {},
   "outputs": [],
   "source": [
    "data['itemId']=data['itemId'].astype('int64')\n",
    "train=pd.merge(train,data,how='left',on='itemId')"
   ]
  },
  {
   "cell_type": "code",
   "execution_count": 5,
   "id": "684f1cc1-cee8-4532-9a00-37b53c8605fb",
   "metadata": {},
   "outputs": [],
   "source": [
    "test=train[train['label'].isna()]\n",
    "train=train[train['label'].notna()]"
   ]
  },
  {
   "cell_type": "code",
   "execution_count": 6,
   "id": "5caf7857-2798-4279-866a-dc40f64e3210",
   "metadata": {},
   "outputs": [],
   "source": [
    "train.to_csv(generate+'train_all022.csv',index=False)\n",
    "test.to_csv(generate+'test_new022.csv',index=False)"
   ]
  }
 ],
 "metadata": {
  "kernelspec": {
   "display_name": "Python 3 (ipykernel)",
   "language": "python",
   "name": "python3"
  },
  "language_info": {
   "codemirror_mode": {
    "name": "ipython",
    "version": 3
   },
   "file_extension": ".py",
   "mimetype": "text/x-python",
   "name": "python",
   "nbconvert_exporter": "python",
   "pygments_lexer": "ipython3",
   "version": "3.8.10"
  }
 },
 "nbformat": 4,
 "nbformat_minor": 5
}
