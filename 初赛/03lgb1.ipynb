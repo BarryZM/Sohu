{
 "cells": [
  {
   "cell_type": "code",
   "execution_count": 1,
   "id": "210a4ecc-82dc-46ff-8d1b-f1d4559cca32",
   "metadata": {},
   "outputs": [],
   "source": [
    "import numpy as np\n",
    "import pandas as pd\n",
    "import pickle\n",
    "from tqdm import tqdm\n",
    "import gc, os\n",
    "import time\n",
    "from datetime import datetime\n",
    "import lightgbm as lgb\n",
    "from sklearn.preprocessing import LabelEncoder, MinMaxScaler\n",
    "import warnings\n",
    "warnings.filterwarnings('ignore')\n",
    "\n",
    "generate='./data/generate/'\n",
    "path='./data/rec_data/'"
   ]
  },
  {
   "cell_type": "code",
   "execution_count": 2,
   "id": "f08f9128-3c0e-4d7b-a409-c16707457cf0",
   "metadata": {},
   "outputs": [],
   "source": [
    "# train=pd.read_csv(generate+'train_all022.csv')\n",
    "# val=pd.read_csv(generate+'test_new022.csv')\n",
    "\n",
    "# data=pd.concat([train,val])\n",
    "\n",
    "data=pd.read_feather(generate+'data_all024.feather')"
   ]
  },
  {
   "cell_type": "code",
   "execution_count": 3,
   "id": "d35c6d0d-943c-40c1-b1b6-b07fcdec1f4a",
   "metadata": {},
   "outputs": [],
   "source": [
    "lgb_cols=['pvId','suv','itemId','operator','browserType','deviceType','osType','province','city','day','category','pvid_count','pvid_item_nunique','pvid_suv_nunique','item_count','item_suv_nunique','level','item_count_new',\n",
    " 'embedding_0','embedding_1','embedding_2','embedding_3','embedding_4','embedding_5','embedding_6','embedding_7','embedding_8','embedding_9','embedding_10','embedding_11','embedding_12','embedding_13','embedding_14','embedding_15','user_level',\n",
    " 'length','hist_itemId0','hist_itemId1','hist_itemId2','hist_itemId3','hist_itemId4','hist_itemId5','hist_itemId6','hist_itemId7','hist_itemId8','hist_itemId9','hist_itemId10','hist_itemId11','hist_itemId12','hist_itemId13','hist_itemId14','hist_itemId15',\n",
    " 'hist_itemId16','hist_itemId17','hist_itemId18','hist_itemId19','hist_itemId20',\n",
    " 'hist_category0','hist_category1','hist_category2','hist_category3','hist_category4','hist_category5','hist_category6','hist_category7','hist_category8','hist_category9','hist_category10','hist_category11','hist_category12','hist_category13','hist_category14',\n",
    " 'hist_category15','hist_category16','hist_category17','hist_category18','hist_category19','hist_category20','hist_item_count0','hist_item_count1','hist_item_count2','hist_item_count3','hist_item_count4','hist_item_count5','hist_item_count6','hist_item_count7','hist_item_count8','hist_item_count9','hist_item_count10',\n",
    " 'hist_item_count11','hist_item_count12','hist_item_count13','hist_item_count14','hist_item_count15','hist_item_count16','hist_item_count17','hist_item_count18','hist_item_count19','hist_item_count20',\n",
    " 'hist_item_level0','hist_item_level1','hist_item_level2','hist_item_level3','hist_item_level4','hist_item_level5','hist_item_level6','hist_item_level7','hist_item_level8','hist_item_level9','hist_item_level10','hist_item_level11',\n",
    " 'hist_item_level12','hist_item_level13','hist_item_level14','hist_item_level15','hist_item_level16','hist_item_level17','hist_item_level18','hist_item_level19','hist_item_level20']\n",
    "# ['label', 'pvId', 'suv', 'itemId', 'userSeq', 'logTs', 'operator','browserType', 'deviceType', 'osType', 'province', 'city', 'day']"
   ]
  },
  {
   "cell_type": "code",
   "execution_count": 4,
   "id": "c331a6d4-c636-4793-b3c3-b07f769be983",
   "metadata": {},
   "outputs": [],
   "source": [
    "# 数据处理sparse、dense\n",
    "for feat in ['pvId','suv','user_level']:\n",
    "    lbe = LabelEncoder()\n",
    "    data[feat] = lbe.fit_transform(data[feat])\n",
    "    \n",
    "train=data[data['label'].notna()]\n",
    "val=data[data['label'].isna()]\n",
    "del data"
   ]
  },
  {
   "cell_type": "code",
   "execution_count": 5,
   "id": "d026f067-8aac-43fb-91b8-4d731d909afb",
   "metadata": {},
   "outputs": [],
   "source": [
    "# 模型及参数的定义\n",
    "lgb_Classfication = lgb.LGBMClassifier(boosting_type='gbdt', num_leaves=31, reg_alpha=0.0, reg_lambda=1,\n",
    "                            max_depth=-1, n_estimators=500, subsample=0.7, colsample_bytree=0.7, subsample_freq=1,\n",
    "                            learning_rate=0.01, min_child_weight=50, random_state=2022, n_jobs= 16)"
   ]
  },
  {
   "cell_type": "code",
   "execution_count": 6,
   "id": "3784979b-f959-4969-81b8-d08de52f27ed",
   "metadata": {},
   "outputs": [
    {
     "data": {
      "text/html": [
       "<style>#sk-container-id-1 {color: black;background-color: white;}#sk-container-id-1 pre{padding: 0;}#sk-container-id-1 div.sk-toggleable {background-color: white;}#sk-container-id-1 label.sk-toggleable__label {cursor: pointer;display: block;width: 100%;margin-bottom: 0;padding: 0.3em;box-sizing: border-box;text-align: center;}#sk-container-id-1 label.sk-toggleable__label-arrow:before {content: \"▸\";float: left;margin-right: 0.25em;color: #696969;}#sk-container-id-1 label.sk-toggleable__label-arrow:hover:before {color: black;}#sk-container-id-1 div.sk-estimator:hover label.sk-toggleable__label-arrow:before {color: black;}#sk-container-id-1 div.sk-toggleable__content {max-height: 0;max-width: 0;overflow: hidden;text-align: left;background-color: #f0f8ff;}#sk-container-id-1 div.sk-toggleable__content pre {margin: 0.2em;color: black;border-radius: 0.25em;background-color: #f0f8ff;}#sk-container-id-1 input.sk-toggleable__control:checked~div.sk-toggleable__content {max-height: 200px;max-width: 100%;overflow: auto;}#sk-container-id-1 input.sk-toggleable__control:checked~label.sk-toggleable__label-arrow:before {content: \"▾\";}#sk-container-id-1 div.sk-estimator input.sk-toggleable__control:checked~label.sk-toggleable__label {background-color: #d4ebff;}#sk-container-id-1 div.sk-label input.sk-toggleable__control:checked~label.sk-toggleable__label {background-color: #d4ebff;}#sk-container-id-1 input.sk-hidden--visually {border: 0;clip: rect(1px 1px 1px 1px);clip: rect(1px, 1px, 1px, 1px);height: 1px;margin: -1px;overflow: hidden;padding: 0;position: absolute;width: 1px;}#sk-container-id-1 div.sk-estimator {font-family: monospace;background-color: #f0f8ff;border: 1px dotted black;border-radius: 0.25em;box-sizing: border-box;margin-bottom: 0.5em;}#sk-container-id-1 div.sk-estimator:hover {background-color: #d4ebff;}#sk-container-id-1 div.sk-parallel-item::after {content: \"\";width: 100%;border-bottom: 1px solid gray;flex-grow: 1;}#sk-container-id-1 div.sk-label:hover label.sk-toggleable__label {background-color: #d4ebff;}#sk-container-id-1 div.sk-serial::before {content: \"\";position: absolute;border-left: 1px solid gray;box-sizing: border-box;top: 0;bottom: 0;left: 50%;z-index: 0;}#sk-container-id-1 div.sk-serial {display: flex;flex-direction: column;align-items: center;background-color: white;padding-right: 0.2em;padding-left: 0.2em;position: relative;}#sk-container-id-1 div.sk-item {position: relative;z-index: 1;}#sk-container-id-1 div.sk-parallel {display: flex;align-items: stretch;justify-content: center;background-color: white;position: relative;}#sk-container-id-1 div.sk-item::before, #sk-container-id-1 div.sk-parallel-item::before {content: \"\";position: absolute;border-left: 1px solid gray;box-sizing: border-box;top: 0;bottom: 0;left: 50%;z-index: -1;}#sk-container-id-1 div.sk-parallel-item {display: flex;flex-direction: column;z-index: 1;position: relative;background-color: white;}#sk-container-id-1 div.sk-parallel-item:first-child::after {align-self: flex-end;width: 50%;}#sk-container-id-1 div.sk-parallel-item:last-child::after {align-self: flex-start;width: 50%;}#sk-container-id-1 div.sk-parallel-item:only-child::after {width: 0;}#sk-container-id-1 div.sk-dashed-wrapped {border: 1px dashed gray;margin: 0 0.4em 0.5em 0.4em;box-sizing: border-box;padding-bottom: 0.4em;background-color: white;}#sk-container-id-1 div.sk-label label {font-family: monospace;font-weight: bold;display: inline-block;line-height: 1.2em;}#sk-container-id-1 div.sk-label-container {text-align: center;}#sk-container-id-1 div.sk-container {/* jupyter's `normalize.less` sets `[hidden] { display: none; }` but bootstrap.min.css set `[hidden] { display: none !important; }` so we also need the `!important` here to be able to override the default hidden behavior on the sphinx rendered scikit-learn.org. See: https://github.com/scikit-learn/scikit-learn/issues/21755 */display: inline-block !important;position: relative;}#sk-container-id-1 div.sk-text-repr-fallback {display: none;}</style><div id=\"sk-container-id-1\" class=\"sk-top-container\"><div class=\"sk-text-repr-fallback\"><pre>LGBMClassifier(colsample_bytree=0.7, learning_rate=0.01, min_child_weight=50,\n",
       "               n_estimators=10000, n_jobs=16, random_state=2022, reg_lambda=1,\n",
       "               subsample=0.7, subsample_freq=1)</pre><b>In a Jupyter environment, please rerun this cell to show the HTML representation or trust the notebook. <br />On GitHub, the HTML representation is unable to render, please try loading this page with nbviewer.org.</b></div><div class=\"sk-container\" hidden><div class=\"sk-item\"><div class=\"sk-estimator sk-toggleable\"><input class=\"sk-toggleable__control sk-hidden--visually\" id=\"sk-estimator-id-1\" type=\"checkbox\" checked><label for=\"sk-estimator-id-1\" class=\"sk-toggleable__label sk-toggleable__label-arrow\">LGBMClassifier</label><div class=\"sk-toggleable__content\"><pre>LGBMClassifier(colsample_bytree=0.7, learning_rate=0.01, min_child_weight=50,\n",
       "               n_estimators=10000, n_jobs=16, random_state=2022, reg_lambda=1,\n",
       "               subsample=0.7, subsample_freq=1)</pre></div></div></div></div></div>"
      ],
      "text/plain": [
       "LGBMClassifier(colsample_bytree=0.7, learning_rate=0.01, min_child_weight=50,\n",
       "               n_estimators=10000, n_jobs=16, random_state=2022, reg_lambda=1,\n",
       "               subsample=0.7, subsample_freq=1)"
      ]
     },
     "execution_count": 6,
     "metadata": {},
     "output_type": "execute_result"
    }
   ],
   "source": [
    "lgb_Classfication.fit(train[lgb_cols], train['label'])"
   ]
  },
  {
   "cell_type": "code",
   "execution_count": 7,
   "id": "0c93bc67-df06-444f-834b-c16d005bd739",
   "metadata": {},
   "outputs": [],
   "source": [
    "# 模型预测\n",
    "val['rate'] = lgb_Classfication.predict_proba(val[lgb_cols])[:,1]"
   ]
  },
  {
   "cell_type": "code",
   "execution_count": 8,
   "id": "2b691a93-f121-4281-8fe1-d14ac5b36ea2",
   "metadata": {},
   "outputs": [],
   "source": [
    "ygq=list(val['rate'])\n",
    "\n",
    "# 生成提交文件\n",
    "sub_path='./data/submission/'\n",
    "sub=pd.read_csv(sub_path+'section2.txt', sep='\\t')\n",
    "sub['result'] = ygq\n",
    "sub.to_csv('./data/section2DIN0.txt', sep='\\t', index=False)"
   ]
  },
  {
   "cell_type": "code",
   "execution_count": 9,
   "id": "465fb4ee-8cb5-4d95-b27d-8c7b04f2d101",
   "metadata": {},
   "outputs": [
    {
     "ename": "NameError",
     "evalue": "name 'data' is not defined",
     "output_type": "error",
     "traceback": [
      "\u001b[0;31m---------------------------------------------------------------------------\u001b[0m",
      "\u001b[0;31mNameError\u001b[0m                                 Traceback (most recent call last)",
      "\u001b[0;32m/tmp/ipykernel_200544/2295596747.py\u001b[0m in \u001b[0;36m<module>\u001b[0;34m\u001b[0m\n\u001b[0;32m----> 1\u001b[0;31m \u001b[0mdata\u001b[0m\u001b[0;34m.\u001b[0m\u001b[0mcolumns\u001b[0m\u001b[0;34m\u001b[0m\u001b[0;34m\u001b[0m\u001b[0m\n\u001b[0m",
      "\u001b[0;31mNameError\u001b[0m: name 'data' is not defined"
     ]
    }
   ],
   "source": [
    "data.columns"
   ]
  },
  {
   "cell_type": "code",
   "execution_count": null,
   "id": "3bf2d77d-4c60-4926-a12a-63adb1006f35",
   "metadata": {},
   "outputs": [],
   "source": []
  }
 ],
 "metadata": {
  "kernelspec": {
   "display_name": "Python 3 (ipykernel)",
   "language": "python",
   "name": "python3"
  },
  "language_info": {
   "codemirror_mode": {
    "name": "ipython",
    "version": 3
   },
   "file_extension": ".py",
   "mimetype": "text/x-python",
   "name": "python",
   "nbconvert_exporter": "python",
   "pygments_lexer": "ipython3",
   "version": "3.8.10"
  }
 },
 "nbformat": 4,
 "nbformat_minor": 5
}
